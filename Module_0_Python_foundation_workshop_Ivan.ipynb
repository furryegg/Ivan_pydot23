{
 "cells": [
  {
   "cell_type": "markdown",
   "metadata": {
    "colab_type": "text",
    "id": "CCtJz8xPKuc6"
   },
   "source": [
    "# Module 0\n",
    "- Foundational Python refresher..."
   ]
  },
  {
   "cell_type": "code",
   "execution_count": null,
   "metadata": {
    "colab": {},
    "colab_type": "code",
    "id": "mhJvjTUlKwBm"
   },
   "outputs": [],
   "source": []
  },
  {
   "cell_type": "markdown",
   "metadata": {
    "colab_type": "text",
    "id": "9xO2aKagLnyW"
   },
   "source": [
    "#### For each of the following expressions, indicate the type of the expression. \n",
    "*While you could simply type these expressions into your shell, we encourage you to answer them directly since this will help reinforce your understanding of basic Python expressions.*"
   ]
  },
  {
   "cell_type": "code",
   "execution_count": null,
   "metadata": {
    "colab": {},
    "colab_type": "code",
    "id": "8013CH4QMoBv"
   },
   "outputs": [],
   "source": [
    "# 3.14\n",
    "# Select an option NoneType int float bool\n",
    "a = 3.14\n",
    "print((a), \",\", int(a), \",\", float(a), \",\", bool(a))\n",
    "\n",
    "# Answer = float"
   ]
  },
  {
   "cell_type": "code",
   "execution_count": null,
   "metadata": {
    "colab": {},
    "colab_type": "code",
    "id": "AHBBr4j5MoE6"
   },
   "outputs": [],
   "source": [
    "# -34\n",
    "# Select an option NoneType int float bool\n",
    "a = -34\n",
    "print((a), \",\", int(a), \",\", float(a), \",\", bool(a))\n",
    "\n",
    "# Answer = int"
   ]
  },
  {
   "cell_type": "code",
   "execution_count": null,
   "metadata": {
    "colab": {},
    "colab_type": "code",
    "id": "GfDZkrREMoMd"
   },
   "outputs": [],
   "source": [
    "# True\n",
    "# Select an option NoneType int float bool\n",
    "a = True\n",
    "print((a), \",\", int(a), \",\", float(a), \",\", bool(a))\n",
    "\n",
    "# Answer = bool"
   ]
  },
  {
   "cell_type": "code",
   "execution_count": null,
   "metadata": {
    "colab": {},
    "colab_type": "code",
    "id": "Lnd1zHiiMoPS"
   },
   "outputs": [],
   "source": [
    "# None\n",
    "# Select an option NoneType int float bool\n",
    "\n",
    "# Answer = NoneType"
   ]
  },
  {
   "cell_type": "code",
   "execution_count": null,
   "metadata": {
    "colab": {},
    "colab_type": "code",
    "id": "TtP1MLblM0CD"
   },
   "outputs": [],
   "source": [
    "# 3.0\n",
    "# Select an option NoneType int float bool\n",
    "a = 3.0\n",
    "print((a), \",\", int(a), \",\", float(a), \",\", bool(a))\n",
    "\n",
    "# Answer = float"
   ]
  },
  {
   "cell_type": "markdown",
   "metadata": {
    "colab_type": "text",
    "id": "QMQEATBnM5Ic"
   },
   "source": [
    "#### Conditional Statement Revisited\n",
    "\n"
   ]
  },
  {
   "cell_type": "markdown",
   "metadata": {
    "colab_type": "text",
    "id": "nKSJJXZyNJ3q"
   },
   "source": [
    "- 3 > 4\n",
    "\n",
    "- 4.0 > 3.999\n",
    "\n",
    "- 4 > 4\n",
    "\n",
    "- 4 > + 4\n",
    "\n",
    "- 2 + 2 == 4\n",
    "\n",
    "- True and False\n",
    "\n",
    "- False or False\n",
    "\n",
    "- not False\n",
    "\n",
    "- (3.0 - 1.0) != (5.0 - 3.0)\n",
    "\n",
    "- 3 > 4 or (2 < 3 and 9 > 10)\n",
    "\n",
    "- 4 > 5 or 3 < 4 and 9 > 8\n",
    "\n",
    "- not(4 > 3 and 100 > 6)"
   ]
  },
  {
   "cell_type": "code",
   "execution_count": null,
   "metadata": {
    "colab": {},
    "colab_type": "code",
    "id": "82sribmIM6oT"
   },
   "outputs": [],
   "source": [
    "# Write the answers below\n",
    "False\n",
    "True\n",
    "False\n",
    "False\n",
    "True\n",
    "# True and False\n",
    "False\n",
    "# Flase or False\n",
    "False\n",
    "# not Flase\n",
    "True\n",
    "\n",
    "#(3.0 - 1.0) !=(5.0-3.0)\n",
    "False\n"
   ]
  },
  {
   "cell_type": "code",
   "execution_count": null,
   "metadata": {},
   "outputs": [],
   "source": [
    "3 > 4 or (2 < 3 and 9 > 10)"
   ]
  },
  {
   "cell_type": "code",
   "execution_count": null,
   "metadata": {},
   "outputs": [],
   "source": [
    "4 > 5 or 3 < 4 and 9 > 8"
   ]
  },
  {
   "cell_type": "code",
   "execution_count": null,
   "metadata": {},
   "outputs": [],
   "source": [
    "not(4 > 3 and 100 > 6)"
   ]
  },
  {
   "cell_type": "code",
   "execution_count": null,
   "metadata": {
    "colab": {},
    "colab_type": "code",
    "id": "cyLlp5rrNn_n"
   },
   "outputs": [],
   "source": [
    "c = 3 > 4\n",
    "\n",
    "if c == True:\n",
    "    message = 'True statement'\n",
    "else:\n",
    "    message = 'False statement'\n",
    "\n",
    "print(message)"
   ]
  },
  {
   "cell_type": "markdown",
   "metadata": {
    "colab_type": "text",
    "id": "pF6omyokNoKh"
   },
   "source": [
    "#### ASSIGNMENT VS Conditionals\n"
   ]
  },
  {
   "cell_type": "markdown",
   "metadata": {
    "colab_type": "text",
    "id": "u-93PM6uNxox"
   },
   "source": [
    "Ouput ??\n",
    "```\n",
    "a = 5\n",
    "a == 5.0\n",
    "a\n",
    "```"
   ]
  },
  {
   "cell_type": "code",
   "execution_count": null,
   "metadata": {
    "colab": {},
    "colab_type": "code",
    "id": "ye81YlBHOBPS"
   },
   "outputs": [],
   "source": [
    "# Answer = 5"
   ]
  },
  {
   "cell_type": "markdown",
   "metadata": {
    "colab_type": "text",
    "id": "_DlGKrKEN8dr"
   },
   "source": [
    "Ouput ??\n",
    "```\n",
    "b = 10\n",
    "c = b > 9\n",
    "c\n",
    "```"
   ]
  },
  {
   "cell_type": "code",
   "execution_count": null,
   "metadata": {
    "colab": {},
    "colab_type": "code",
    "id": "tIS_RNvWNrKH"
   },
   "outputs": [],
   "source": [
    "# Answer = True"
   ]
  },
  {
   "cell_type": "markdown",
   "metadata": {
    "colab_type": "text",
    "id": "hnAjXbsmNoQR"
   },
   "source": [
    "#### Advanced String manipulations Revisited"
   ]
  },
  {
   "cell_type": "markdown",
   "metadata": {
    "colab_type": "text",
    "id": "M7aVETqlOLay"
   },
   "source": [
    "```\n",
    "- \"a\" + \"bc\"\n",
    "\n",
    "- 3 * \"bc\"\n",
    "\n",
    "- \"3\" * \"bc\"\n",
    "\n",
    "- \"Abcd\"[2]\n",
    "\n",
    "- \"Abcd\"[0:2]\n",
    "\n",
    "- \"Abcd\"[ :2 ]\n",
    "\n",
    "- \"Abcd\"[2:]\n",
    "```"
   ]
  },
  {
   "cell_type": "code",
   "execution_count": null,
   "metadata": {},
   "outputs": [],
   "source": [
    "abc\n",
    "bcbcbc\n",
    "TypeError\n",
    "c\n",
    "Ab\n",
    "Ab\n",
    "cd\n",
    "\n",
    "# \"a\" + \"bc\" #abc\n",
    "\n",
    "# 3 * \"bc\" #bcbcbc\n",
    "\n",
    "# \"3\" * \"bc\"\n",
    "\n",
    "# \"Abcd\"[2] c\n",
    "\n",
    "# \"Abcd\"[0:2] Ab\n",
    "\n",
    "# \"Abcd\"[ :2 ] Ab\n",
    "\n",
    "# \"Abcd\"[2:] cd"
   ]
  },
  {
   "cell_type": "markdown",
   "metadata": {
    "colab_type": "text",
    "id": "zIl9C0jbOL1l"
   },
   "source": [
    "#### More on strings & slicing..\n",
    "\n",
    "```\n",
    "str1 = 'hello'\n",
    "str2 = ','\n",
    "str3 = 'world'\n",
    "```"
   ]
  },
  {
   "cell_type": "markdown",
   "metadata": {
    "colab_type": "text",
    "id": "S1yJvqWMPGEQ"
   },
   "source": [
    "Part 1 - Answer the following\n",
    "\n",
    "```\n",
    "- str1[0]\n",
    "\n",
    "- Str1[1]\n",
    "\n",
    "- str1[-1]\n",
    "\n",
    "- len(str1)\n",
    "\n",
    "- str1[ len(str1)-1 ]\n",
    "\n",
    "- str1[-1 : len(str1)-1 ]\n",
    "\n",
    "- str1 + str2 + str3\n",
    "\n",
    "- str1 + str2 + ' ' + str3\n",
    "\n",
    "- str3 * 3\n",
    "\n",
    "- 'hello' == str1\n",
    "\n",
    "- 'HELLO' == str1\n",
    "\n",
    "- 'a' in str3\n",
    "```"
   ]
  },
  {
   "cell_type": "code",
   "execution_count": null,
   "metadata": {},
   "outputs": [],
   "source": [
    "- str1[0] = h\n",
    "- Str1[1] = NameError\n",
    "- str1[-1] = o\n",
    "- len(str1) = 5\n",
    "- str1[ len(str1)-1 ] = o\n",
    "- str1[-1 : len(str1)-1 ] = ''\n",
    "- str1 + str2 + str3 = hello,world\n",
    "- str1 + str2 + ' ' + str3 = hello, world\n",
    "- str3 * 3 = worldworldworld\n",
    "- 'hello' == str1 = True\n",
    "- 'HELLO' == str1 = False\n",
    "- 'a' in str3 = False"
   ]
  },
  {
   "cell_type": "markdown",
   "metadata": {
    "colab_type": "text",
    "id": "etoxGBJFPODB"
   },
   "source": [
    "Part 2 - Answer the following\n",
    "\n",
    "```\n",
    "- str4 = 'helloworld'\n",
    "\n",
    "- 'low' in str4\n",
    "\n",
    "- str3[1:3]\n",
    "\n",
    "- str3[:3]\n",
    "\n",
    "- [str3:-1]\n",
    "\n",
    "- str1[1:]\n",
    "\n",
    "- str4[1:9]\n",
    "\n",
    "- str4[9:1:2] \n",
    "\n",
    "- Str4[::-1]\n",
    "```"
   ]
  },
  {
   "cell_type": "code",
   "execution_count": null,
   "metadata": {},
   "outputs": [],
   "source": [
    "str4 = 'helloworld' = helloworld\n",
    "low' in str4 = True\n",
    "str3[1:3] = or\n",
    "str3[:3] = wor\n",
    "[str3:-1] = SyntaxError\n",
    "str1[1:] = ello\n",
    "str4[1:9] = elloworl\n",
    "str4[9:1:2] = ''\n",
    "Str4[::-1] = NameError"
   ]
  },
  {
   "cell_type": "code",
   "execution_count": null,
   "metadata": {},
   "outputs": [],
   "source": [
    "str4[::-1] # Reverse syntax"
   ]
  },
  {
   "cell_type": "markdown",
   "metadata": {
    "colab_type": "text",
    "id": "sXo4bq1GPu0s"
   },
   "source": [
    "#### Conditionals\n",
    "\n",
    "Ouput ??\n",
    "\n",
    "```\n",
    "if 6 > 7:\n",
    "   print(\"Yep\")\n",
    "```\n"
   ]
  },
  {
   "cell_type": "code",
   "execution_count": null,
   "metadata": {
    "colab": {},
    "colab_type": "code",
    "id": "Ozp7-tDWP23e"
   },
   "outputs": [],
   "source": [
    "# Answer = Nothing...."
   ]
  },
  {
   "cell_type": "markdown",
   "metadata": {
    "colab_type": "text",
    "id": "IV48xrPLP2Qe"
   },
   "source": [
    "Ouput ??\n",
    "```\n",
    "if 6 > 7:\n",
    "   print(\"Yep\")\n",
    "else:\n",
    "   print(\"Nope\")\n",
    "```"
   ]
  },
  {
   "cell_type": "code",
   "execution_count": null,
   "metadata": {
    "colab": {},
    "colab_type": "code",
    "id": "sutpFz6UQBPG"
   },
   "outputs": [],
   "source": [
    "# Answer = Nope"
   ]
  },
  {
   "cell_type": "markdown",
   "metadata": {
    "colab_type": "text",
    "id": "g8Q0gpYBP61n"
   },
   "source": [
    "Ouput ??\n",
    "```\n",
    "var = 'Panda'\n",
    "if var == \"panda\":\n",
    "   print(\"Cute!\")\n",
    "elif var == \"Panda\":\n",
    "   print(\"Regal!\")\n",
    "else:\n",
    "   print(\"Ugly...\")\n",
    "```"
   ]
  },
  {
   "cell_type": "code",
   "execution_count": null,
   "metadata": {
    "colab": {},
    "colab_type": "code",
    "id": "mFREAMj5QBlH"
   },
   "outputs": [],
   "source": [
    "# Answer = Regal!"
   ]
  },
  {
   "cell_type": "markdown",
   "metadata": {
    "colab_type": "text",
    "id": "ASBWTfO-P_Td"
   },
   "source": [
    "Ouput ??\n",
    "```\n",
    "temp = 120\n",
    "if temp > 85:\n",
    "   print(\"Hot\")\n",
    "elif temp > 100:\n",
    "   print(\"REALLY HOT!\")\n",
    "elif temp > 60:\n",
    "   print(\"Comfortable\") \n",
    "else:\n",
    "   print(\"Cold\")\n",
    "```"
   ]
  },
  {
   "cell_type": "code",
   "execution_count": null,
   "metadata": {
    "colab": {},
    "colab_type": "code",
    "id": "6Ak2W5sOX9uH"
   },
   "outputs": [],
   "source": [
    "# Answer = Hot"
   ]
  },
  {
   "cell_type": "code",
   "execution_count": null,
   "metadata": {
    "colab": {},
    "colab_type": "code",
    "id": "QrpbrDtyX-R8"
   },
   "outputs": [],
   "source": []
  },
  {
   "cell_type": "markdown",
   "metadata": {
    "colab_type": "text",
    "id": "q-xee43DQIIx"
   },
   "source": [
    "Output ??\n",
    "```\n",
    "temp = 50\n",
    "if temp > 85:\n",
    "   print(\"Hot\")\n",
    "elif temp > 100:\n",
    "   print(\"REALLY HOT!\")\n",
    "elif temp > 60:\n",
    "   print(\"Comfortable\")\n",
    "else:\n",
    "   print(\"Cold\")\n",
    "\n",
    "```"
   ]
  },
  {
   "cell_type": "code",
   "execution_count": null,
   "metadata": {
    "colab": {},
    "colab_type": "code",
    "id": "VTTnF_mdQCBw"
   },
   "outputs": [],
   "source": [
    "# Answer = Cold"
   ]
  },
  {
   "cell_type": "markdown",
   "metadata": {
    "colab_type": "text",
    "id": "jyGs6dF9RKsy"
   },
   "source": [
    "#### TELL ME THE OUTPUT OF THE FOLLOWING PROGRAM"
   ]
  },
  {
   "cell_type": "markdown",
   "metadata": {
    "colab_type": "text",
    "id": "NpMYBfrkRPoD"
   },
   "source": [
    "Output ??\n",
    "```\n",
    "num = 5\n",
    "if num > 2:\n",
    "    print(num)\n",
    "    num -= 1\n",
    "print(num)\n",
    "\n",
    "```"
   ]
  },
  {
   "cell_type": "code",
   "execution_count": null,
   "metadata": {
    "colab": {},
    "colab_type": "code",
    "id": "K68va5K-Rg0b"
   },
   "outputs": [],
   "source": [
    "## Answer:\n",
    "\n",
    "5\n",
    "# num = num - 1\n",
    "4"
   ]
  },
  {
   "cell_type": "markdown",
   "metadata": {
    "colab_type": "text",
    "id": "Duhvr42VRWtz"
   },
   "source": [
    "Output ??\n",
    "```\n",
    "num = 0\n",
    "while num <= 5:\n",
    "    print(num)\n",
    "    num += 1\n",
    "\n",
    "print(\"Outside of loop\")\n",
    "print(num)\n",
    "\n",
    "```"
   ]
  },
  {
   "cell_type": "code",
   "execution_count": 1,
   "metadata": {
    "colab": {},
    "colab_type": "code",
    "id": "kLseGcLURhKP"
   },
   "outputs": [
    {
     "name": "stdout",
     "output_type": "stream",
     "text": [
      "0\n",
      "1\n",
      "2\n",
      "3\n",
      "4\n",
      "5\n",
      "Outside of loop\n",
      "6\n"
     ]
    }
   ],
   "source": [
    "num = 0\n",
    "while num <= 5:\n",
    "    print(num)\n",
    "    num += 1\n",
    "\n",
    "print(\"Outside of loop\")\n",
    "print(num)"
   ]
  },
  {
   "cell_type": "markdown",
   "metadata": {
    "colab_type": "text",
    "id": "OqtUeku_RbGd"
   },
   "source": [
    "Output ??\n",
    "```\n",
    "numberOfLoops = 0\n",
    "numberOfApples = 2\n",
    "while numberOfLoops < 6:\n",
    "    numberOfApples *= 2\n",
    "    numberOfApples += numberOfLoops\n",
    "    numberOfLoops -= 1\n",
    "print(\"Number of apples: \" + str(numberOfApples))\n",
    "```"
   ]
  },
  {
   "cell_type": "code",
   "execution_count": null,
   "metadata": {
    "colab": {},
    "colab_type": "code",
    "id": "7_I63SPERhq1"
   },
   "outputs": [],
   "source": [
    "# Answer = None... (infinte loop case)"
   ]
  },
  {
   "cell_type": "markdown",
   "metadata": {
    "colab_type": "text",
    "id": "ZbpSRNPxRd9o"
   },
   "source": [
    "Output ??\n",
    "```\n",
    "num = 10\n",
    "while num > 3:\n",
    "   print(num)\n",
    "   num -= 1\n",
    "\n",
    "```"
   ]
  },
  {
   "cell_type": "code",
   "execution_count": 2,
   "metadata": {
    "colab": {},
    "colab_type": "code",
    "id": "VVH7P4xTROWO"
   },
   "outputs": [
    {
     "name": "stdout",
     "output_type": "stream",
     "text": [
      "10\n",
      "9\n",
      "8\n",
      "7\n",
      "6\n",
      "5\n",
      "4\n"
     ]
    }
   ],
   "source": [
    "num = 10\n",
    "while num > 3:\n",
    "   print(num)\n",
    "   num -= 1"
   ]
  },
  {
   "cell_type": "markdown",
   "metadata": {
    "colab_type": "text",
    "id": "fmb2MwfARklM"
   },
   "source": [
    "Output ??\n",
    "```\n",
    "num = 10\n",
    "while True:\n",
    "    if num < 7:\n",
    "        print('Breaking out of loop')\n",
    "        break\n",
    "    print(num)\n",
    "    num -= 1\n",
    "print('Outside of loop')\n",
    "```"
   ]
  },
  {
   "cell_type": "code",
   "execution_count": 3,
   "metadata": {
    "colab": {},
    "colab_type": "code",
    "id": "7izo_zy6RlZA"
   },
   "outputs": [
    {
     "name": "stdout",
     "output_type": "stream",
     "text": [
      "10\n",
      "9\n",
      "8\n",
      "7\n",
      "Breaking out of loop\n",
      "Outside of loop\n"
     ]
    }
   ],
   "source": [
    "num = 10\n",
    "while True:\n",
    "    if num < 7:\n",
    "        print('Breaking out of loop')\n",
    "        break\n",
    "    print(num)\n",
    "    num -= 1\n",
    "print('Outside of loop')"
   ]
  },
  {
   "cell_type": "markdown",
   "metadata": {
    "colab_type": "text",
    "id": "1BlB3DyeRo8S"
   },
   "source": [
    "Output ??\n",
    "```\n",
    "num = 100\n",
    "while not False:\n",
    "    if num < 0:\n",
    "        Break\n",
    "print('num is: ' + str(num))\n",
    "```"
   ]
  },
  {
   "cell_type": "code",
   "execution_count": null,
   "metadata": {
    "colab": {},
    "colab_type": "code",
    "id": "DK-g0IsaRqtq"
   },
   "outputs": [],
   "source": [
    "# Answer = An infinite loop"
   ]
  },
  {
   "cell_type": "markdown",
   "metadata": {
    "colab_type": "text",
    "id": "4FVnUU04RspK"
   },
   "source": [
    "#### WHILE LOOPS\n"
   ]
  },
  {
   "cell_type": "markdown",
   "metadata": {
    "colab_type": "text",
    "id": "7GuoyireRxhf"
   },
   "source": [
    "```\n",
    "Using while loops to write calculate the sum of first N numbers\n",
    "Input = 10\n",
    "Output = 1+2+3+4+5+6+7+8+9+10 = 55\n",
    "```"
   ]
  },
  {
   "cell_type": "code",
   "execution_count": 4,
   "metadata": {
    "colab": {},
    "colab_type": "code",
    "id": "ZUZwQqxJSMWN"
   },
   "outputs": [
    {
     "data": {
      "text/plain": [
       "True"
      ]
     },
     "execution_count": 4,
     "metadata": {},
     "output_type": "execute_result"
    }
   ],
   "source": [
    "def sum_of_n_numbers(n):\n",
    "    acc = 0\n",
    "    for i in range(1, n+1):\n",
    "        acc +=i\n",
    "    return acc\n",
    "\n",
    "def sum_of_n_numbers_while(n):\n",
    "    acc = 0\n",
    "    index = 0\n",
    "    while index <= n:\n",
    "        acc += index\n",
    "        index += 1\n",
    "    return acc\n",
    "\n",
    "\n",
    "\n",
    "    # ... # also means Pass\n",
    "sum_of_n_numbers(10) == sum_of_n_numbers_while(10)"
   ]
  },
  {
   "cell_type": "code",
   "execution_count": null,
   "metadata": {},
   "outputs": [],
   "source": []
  },
  {
   "cell_type": "markdown",
   "metadata": {
    "colab_type": "text",
    "id": "mkjx4-EWR29U"
   },
   "source": [
    "1. Convert the following into code that uses a while loop.\n",
    "```\n",
    "print 2\n",
    "prints 4\n",
    "prints 6\n",
    "prints 8\n",
    "prints 10\n",
    "prints Goodbye!\n",
    "```"
   ]
  },
  {
   "cell_type": "code",
   "execution_count": 5,
   "metadata": {
    "colab": {},
    "colab_type": "code",
    "id": "eXHwjG7eSAfV"
   },
   "outputs": [
    {
     "name": "stdout",
     "output_type": "stream",
     "text": [
      "2\n",
      "4\n",
      "6\n",
      "8\n",
      "10\n",
      "Goodbye!\n"
     ]
    }
   ],
   "source": [
    "index = 2\n",
    "while index <=10:\n",
    "    print(index)\n",
    "    index += 2\n",
    "\n",
    "print(\"Goodbye!\")"
   ]
  },
  {
   "cell_type": "markdown",
   "metadata": {
    "colab_type": "text",
    "id": "VE1XAJ9fSCr3"
   },
   "source": [
    "2. Convert the following into code that uses a while loop.\n",
    "```\n",
    "prints Hello!\n",
    "prints 10\n",
    "prints 8\n",
    "prints 6\n",
    "prints 4\n",
    "prints 2\n",
    "```"
   ]
  },
  {
   "cell_type": "code",
   "execution_count": 7,
   "metadata": {
    "colab": {},
    "colab_type": "code",
    "id": "_P3uLwkuRuKq"
   },
   "outputs": [
    {
     "name": "stdout",
     "output_type": "stream",
     "text": [
      "Hello!\n",
      "10\n",
      "8\n",
      "6\n",
      "4\n",
      "2\n"
     ]
    }
   ],
   "source": [
    "index = 10\n",
    "\n",
    "print(\"Hello!\")\n",
    "while index >=2:\n",
    "    print(index)\n",
    "    index -= 2\n"
   ]
  },
  {
   "cell_type": "markdown",
   "metadata": {
    "colab_type": "text",
    "id": "2tAnDuXqSJBS"
   },
   "source": [
    "#### USE For Loops to do the same .\n",
    "\n",
    "**Refer to previous exercise**\n"
   ]
  },
  {
   "cell_type": "code",
   "execution_count": null,
   "metadata": {
    "colab": {},
    "colab_type": "code",
    "id": "yAYIrukESOdM"
   },
   "outputs": [],
   "source": []
  },
  {
   "cell_type": "markdown",
   "metadata": {
    "colab_type": "text",
    "id": "XTV15vV0SQVS"
   },
   "source": [
    "#### Guess the output of for loops\n",
    "\n",
    "1. \n",
    "```python\n",
    "num = 10\n",
    "for num in range(5):\n",
    "    print(num)\n",
    "print(num)\n",
    "```\n",
    "--- \n",
    "\n",
    "2. \n",
    "```python\n",
    "divisor = 2\n",
    "for num in range(0, 10, 2):\n",
    "    print(num/divisor)\n",
    "```\n",
    "---\n",
    "\n",
    "3. \n",
    "```python\n",
    "for variable in range(20):\n",
    "    if variable % 4 == 0:\n",
    "        print(variable)\n",
    "    if variable % 16 == 0:\n",
    "        print('Foo!')\n",
    "```\n",
    "---\n",
    "\n",
    "4. \n",
    "```python\n",
    "for letter in 'hola':\n",
    "    print(letter) \n",
    "```\n",
    "---\n",
    "\n",
    "5. \n",
    "```python\n",
    "count = 0\n",
    "for letter in 'Snow!':\n",
    "    print('Letter # ' + str(count) + ' is ' + str(letter))\n",
    "    count += 1\n",
    "    break\n",
    "print(count)\n",
    "```"
   ]
  },
  {
   "cell_type": "code",
   "execution_count": 8,
   "metadata": {
    "colab": {},
    "colab_type": "code",
    "id": "VFEy6h6YRuNm"
   },
   "outputs": [
    {
     "name": "stdout",
     "output_type": "stream",
     "text": [
      "0\n",
      "1\n",
      "2\n",
      "3\n",
      "4\n",
      "4\n"
     ]
    }
   ],
   "source": [
    "num = 10\n",
    "for num in range(5):\n",
    " print(num)\n",
    "print(num)\n"
   ]
  },
  {
   "cell_type": "code",
   "execution_count": 9,
   "metadata": {
    "colab": {},
    "colab_type": "code",
    "id": "bNZ5V10dSzy8"
   },
   "outputs": [
    {
     "name": "stdout",
     "output_type": "stream",
     "text": [
      "0.0\n",
      "1.0\n",
      "2.0\n",
      "3.0\n",
      "4.0\n"
     ]
    }
   ],
   "source": [
    "divisor = 2\n",
    "for num in range(0, 10, 2):\n",
    " print(num/divisor)\n"
   ]
  },
  {
   "cell_type": "code",
   "execution_count": 10,
   "metadata": {},
   "outputs": [
    {
     "name": "stdout",
     "output_type": "stream",
     "text": [
      "0\n",
      "Foo!\n",
      "4\n",
      "8\n",
      "12\n",
      "16\n",
      "Foo!\n"
     ]
    }
   ],
   "source": [
    "for variable in range(20):\n",
    " if variable % 4 == 0:\n",
    "     print(variable)\n",
    " if variable % 16 == 0:\n",
    "     print('Foo!')\n"
   ]
  },
  {
   "cell_type": "code",
   "execution_count": 11,
   "metadata": {},
   "outputs": [
    {
     "name": "stdout",
     "output_type": "stream",
     "text": [
      "h\n",
      "o\n",
      "l\n",
      "a\n"
     ]
    }
   ],
   "source": [
    "for letter in 'hola':\n",
    " print(letter) "
   ]
  },
  {
   "cell_type": "code",
   "execution_count": 12,
   "metadata": {},
   "outputs": [
    {
     "name": "stdout",
     "output_type": "stream",
     "text": [
      "Letter # 0 is S\n",
      "1\n"
     ]
    }
   ],
   "source": [
    "count = 0\n",
    "for letter in 'Snow!':\n",
    " print('Letter # ' + str(count) + ' is ' + str(letter))\n",
    " count += 1\n",
    " break\n",
    "print(count)"
   ]
  },
  {
   "cell_type": "markdown",
   "metadata": {
    "colab_type": "text",
    "id": "PFmh-LB1S0Kg"
   },
   "source": [
    "#### Python dict\n",
    "\n",
    "\n",
    "Given the following code...\n",
    "\n",
    "```python\n",
    "animals = {\n",
    "            'a': 'aardvark',\n",
    "            'b': 'baboon',\n",
    "            'c': 'coati'\n",
    "          }\n",
    "\n",
    "animals['d'] = 'donkey'\n",
    "animals['b'] = 'donkey'\n",
    "\n",
    "```"
   ]
  },
  {
   "cell_type": "markdown",
   "metadata": {
    "colab_type": "text",
    "id": "LtGZCyt_TLcD"
   },
   "source": [
    "#### Guess the output with respect to the given dict..\n",
    "\n",
    "1. \n",
    "```\n",
    "animals\n",
    "```\n",
    "--- \n",
    "\n",
    "2. \n",
    "```\n",
    "divisor = 2\n",
    "for num in range(0, 10, 2):\n",
    "    print(num/divisor)\n",
    "```\n",
    "---\n",
    "\n",
    "3. \n",
    "```\n",
    "animals['donkey'] \n",
    "```\n",
    "---\n",
    "\n",
    "4. \n",
    "```\n",
    "len(animals)\n",
    "```\n",
    "---\n",
    "\n",
    "5. \n",
    "```\n",
    "animals['a'] = 'anteater'\n",
    "```\n",
    "---\n",
    "\n",
    "6. \n",
    "```\n",
    "len(animals['a'])\n",
    "```\n",
    "---\n",
    "\n",
    "7. \n",
    "```\n",
    "'baboon' in animals \n",
    "```\n",
    "---\n",
    "\n",
    "8. \n",
    "```\n",
    " 'donkey' in animals.values()\n",
    "```\n",
    "---\n",
    "\n",
    "9. \n",
    "```\n",
    "'b' in animals \n",
    "```\n",
    "---\n",
    "10. \n",
    "```\n",
    "animals.keys()\n",
    "```\n",
    "---\n",
    "11. \n",
    "```\n",
    "del animals['b']\n",
    "len(animals)\n",
    "animals\n",
    "```\n",
    "---\n",
    "12. \n",
    "```\n",
    "animals.values()\n",
    "```"
   ]
  },
  {
   "cell_type": "code",
   "execution_count": null,
   "metadata": {
    "colab": {},
    "colab_type": "code",
    "id": "cjA1eUI1TO5s"
   },
   "outputs": [],
   "source": [
    "## Outputs..."
   ]
  },
  {
   "cell_type": "code",
   "execution_count": 13,
   "metadata": {},
   "outputs": [
    {
     "data": {
      "text/plain": [
       "{'a': 'aardvark', 'b': 'donkey', 'c': 'coati', 'd': 'donkey'}"
      ]
     },
     "execution_count": 13,
     "metadata": {},
     "output_type": "execute_result"
    }
   ],
   "source": [
    "animals = {\n",
    "            'a': 'aardvark',\n",
    "            'b': 'baboon',\n",
    "            'c': 'coati'\n",
    "          }\n",
    "\n",
    "animals['d'] = 'donkey'\n",
    "animals['b'] = 'donkey'\n",
    "animals\n"
   ]
  },
  {
   "cell_type": "code",
   "execution_count": 14,
   "metadata": {},
   "outputs": [
    {
     "ename": "NameError",
     "evalue": "name 'get' is not defined",
     "output_type": "error",
     "traceback": [
      "\u001b[0;31m---------------------------------------------------------------------------\u001b[0m",
      "\u001b[0;31mNameError\u001b[0m                                 Traceback (most recent call last)",
      "\u001b[0;32m<ipython-input-14-44b5e35f5e16>\u001b[0m in \u001b[0;36m<module>\u001b[0;34m\u001b[0m\n\u001b[0;32m----> 1\u001b[0;31m \u001b[0mget\u001b[0m\u001b[0;34m.\u001b[0m\u001b[0manimals\u001b[0m\u001b[0;34m(\u001b[0m\u001b[0;34m'donkey'\u001b[0m\u001b[0;34m)\u001b[0m\u001b[0;34m\u001b[0m\u001b[0;34m\u001b[0m\u001b[0m\n\u001b[0m",
      "\u001b[0;31mNameError\u001b[0m: name 'get' is not defined"
     ]
    }
   ],
   "source": [
    "get.animals('donkey')"
   ]
  },
  {
   "cell_type": "code",
   "execution_count": 15,
   "metadata": {},
   "outputs": [
    {
     "data": {
      "text/plain": [
       "4"
      ]
     },
     "execution_count": 15,
     "metadata": {},
     "output_type": "execute_result"
    }
   ],
   "source": [
    "len(animals)"
   ]
  },
  {
   "cell_type": "code",
   "execution_count": 16,
   "metadata": {},
   "outputs": [
    {
     "data": {
      "text/plain": [
       "{'a': 'anteater', 'b': 'donkey', 'c': 'coati', 'd': 'donkey'}"
      ]
     },
     "execution_count": 16,
     "metadata": {},
     "output_type": "execute_result"
    }
   ],
   "source": [
    "animals['a'] = 'anteater'\n",
    "animals"
   ]
  },
  {
   "cell_type": "code",
   "execution_count": 17,
   "metadata": {},
   "outputs": [
    {
     "data": {
      "text/plain": [
       "8"
      ]
     },
     "execution_count": 17,
     "metadata": {},
     "output_type": "execute_result"
    }
   ],
   "source": [
    "len(animals['a'])"
   ]
  },
  {
   "cell_type": "code",
   "execution_count": 18,
   "metadata": {},
   "outputs": [
    {
     "data": {
      "text/plain": [
       "False"
      ]
     },
     "execution_count": 18,
     "metadata": {},
     "output_type": "execute_result"
    }
   ],
   "source": [
    "'baboon' in animals"
   ]
  },
  {
   "cell_type": "code",
   "execution_count": 19,
   "metadata": {},
   "outputs": [
    {
     "data": {
      "text/plain": [
       "False"
      ]
     },
     "execution_count": 19,
     "metadata": {},
     "output_type": "execute_result"
    }
   ],
   "source": [
    "'baboon' in animals.values()"
   ]
  },
  {
   "cell_type": "code",
   "execution_count": 20,
   "metadata": {},
   "outputs": [
    {
     "data": {
      "text/plain": [
       "True"
      ]
     },
     "execution_count": 20,
     "metadata": {},
     "output_type": "execute_result"
    }
   ],
   "source": [
    "'b' in animals "
   ]
  },
  {
   "cell_type": "code",
   "execution_count": 21,
   "metadata": {},
   "outputs": [
    {
     "data": {
      "text/plain": [
       "dict_keys(['a', 'b', 'c', 'd'])"
      ]
     },
     "execution_count": 21,
     "metadata": {},
     "output_type": "execute_result"
    }
   ],
   "source": [
    "animals.keys()"
   ]
  },
  {
   "cell_type": "code",
   "execution_count": 22,
   "metadata": {},
   "outputs": [
    {
     "data": {
      "text/plain": [
       "4"
      ]
     },
     "execution_count": 22,
     "metadata": {},
     "output_type": "execute_result"
    }
   ],
   "source": [
    "\n",
    "len(animals)"
   ]
  },
  {
   "cell_type": "code",
   "execution_count": 23,
   "metadata": {},
   "outputs": [
    {
     "data": {
      "text/plain": [
       "'anteater'"
      ]
     },
     "execution_count": 23,
     "metadata": {},
     "output_type": "execute_result"
    }
   ],
   "source": [
    "list(animals.values())[0]"
   ]
  },
  {
   "cell_type": "markdown",
   "metadata": {
    "colab_type": "text",
    "id": "Hup1luuoTLe5"
   },
   "source": [
    "#### Tuples...\n",
    "\n",
    "Assume we've made the following assignment:\n",
    "\n",
    "```python\n",
    "x = (1, 2, (3, 'John', 4), 'Hi')\n",
    "```\n"
   ]
  },
  {
   "cell_type": "markdown",
   "metadata": {
    "colab_type": "text",
    "id": "VFmjuei-TLlJ"
   },
   "source": [
    "\n",
    "Ouput ???\n",
    "\n",
    "- x[0]\n",
    "---\n",
    "- x[2]\n",
    "---\n",
    "\n",
    "- x[-1]\n",
    "---\n",
    "\n",
    "- x[2][2]\n",
    "---\n",
    "\n",
    "- x[2][-1]\n",
    "---\n",
    "\n",
    "- x[-1][-1]\n",
    "---\n",
    "\n",
    "- x[-1][2]\n",
    "---\n",
    "\n",
    "- x[0:1]\n",
    "---\n",
    "\n",
    "- x[0:-1]\n",
    "---\n",
    "\n",
    "- len(x)\n",
    "---\n",
    "\n",
    "- 2 in x\n",
    "---\n",
    "\n",
    "- 3 in x\n",
    "---\n",
    "\n",
    "- x[0] = 8\n",
    "---\n",
    "```"
   ]
  },
  {
   "cell_type": "markdown",
   "metadata": {
    "colab_type": "text",
    "id": "j1mpBiJuTLno"
   },
   "source": []
  },
  {
   "cell_type": "code",
   "execution_count": null,
   "metadata": {
    "colab": {},
    "colab_type": "code",
    "id": "ySdq8PHbVeLP"
   },
   "outputs": [],
   "source": [
    "1\n",
    "(3,'John',4)\n",
    "Hi\n",
    "4\n",
    "4\n",
    "i\n",
    "Error \n",
    "1\n",
    "\n",
    "len(x) = 4\n",
    "2\n",
    "None\n",
    "Error\n"
   ]
  },
  {
   "cell_type": "code",
   "execution_count": 24,
   "metadata": {
    "colab": {},
    "colab_type": "code",
    "id": "RfD6KfanXumS"
   },
   "outputs": [
    {
     "ename": "IndexError",
     "evalue": "string index out of range",
     "output_type": "error",
     "traceback": [
      "\u001b[0;31m---------------------------------------------------------------------------\u001b[0m",
      "\u001b[0;31mIndexError\u001b[0m                                Traceback (most recent call last)",
      "\u001b[0;32m<ipython-input-24-608b2cf5bce7>\u001b[0m in \u001b[0;36m<module>\u001b[0;34m\u001b[0m\n\u001b[1;32m      1\u001b[0m \u001b[0mx\u001b[0m \u001b[0;34m=\u001b[0m \u001b[0;34m(\u001b[0m\u001b[0;36m1\u001b[0m\u001b[0;34m,\u001b[0m \u001b[0;36m2\u001b[0m\u001b[0;34m,\u001b[0m \u001b[0;34m(\u001b[0m\u001b[0;36m3\u001b[0m\u001b[0;34m,\u001b[0m \u001b[0;34m'John'\u001b[0m\u001b[0;34m,\u001b[0m \u001b[0;36m4\u001b[0m\u001b[0;34m)\u001b[0m\u001b[0;34m,\u001b[0m \u001b[0;34m'Hi'\u001b[0m\u001b[0;34m)\u001b[0m\u001b[0;34m\u001b[0m\u001b[0;34m\u001b[0m\u001b[0m\n\u001b[0;32m----> 2\u001b[0;31m \u001b[0mx\u001b[0m\u001b[0;34m[\u001b[0m\u001b[0;34m-\u001b[0m\u001b[0;36m1\u001b[0m\u001b[0;34m]\u001b[0m\u001b[0;34m[\u001b[0m\u001b[0;36m2\u001b[0m\u001b[0;34m]\u001b[0m\u001b[0;34m\u001b[0m\u001b[0;34m\u001b[0m\u001b[0m\n\u001b[0m",
      "\u001b[0;31mIndexError\u001b[0m: string index out of range"
     ]
    }
   ],
   "source": [
    "x = (1, 2, (3, 'John', 4), 'Hi')\n",
    "x[-1][2]"
   ]
  },
  {
   "cell_type": "code",
   "execution_count": null,
   "metadata": {
    "colab": {},
    "colab_type": "code",
    "id": "sgSk5E6SXu09"
   },
   "outputs": [],
   "source": []
  },
  {
   "cell_type": "markdown",
   "metadata": {
    "colab_type": "text",
    "id": "Y7t_dKKKRD9T"
   },
   "source": [
    "## Code Snip"
   ]
  },
  {
   "cell_type": "markdown",
   "metadata": {
    "colab_type": "text",
    "id": "JxHxaQV3Qt7A"
   },
   "source": [
    "### Code Snippets 01\n",
    "\n",
    "- Write a piece of Python code that evaluates varA and varB, and then prints out one of the following messages:\n",
    "\n",
    "1. \"string involved\" if either varA or varB are strings\n",
    "2. \"bigger\" if varA is larger than varB\n",
    "3. \"equal\" if varA is equal to varB\n",
    "4.\"smaller\" if varA is smaller than varB"
   ]
  },
  {
   "cell_type": "code",
   "execution_count": null,
   "metadata": {
    "colab": {},
    "colab_type": "code",
    "id": "IR9D3prwQtcn"
   },
   "outputs": [],
   "source": []
  },
  {
   "cell_type": "markdown",
   "metadata": {
    "colab_type": "text",
    "id": "006CV236LS7e"
   },
   "source": [
    "###  Code Snippets 02\n",
    "- Assume `s` is a string of lower case characters.\n",
    "- Write a program that counts up the number of vowels contained in the string s. \n",
    "- Valid vowels are: 'a', 'e', 'i', 'o', and 'u'. \n",
    "- For example, if s = 'azcbobobegghakl', your program should print:\n",
    "- Number of vowels: 5\n"
   ]
  },
  {
   "cell_type": "code",
   "execution_count": 25,
   "metadata": {
    "colab": {},
    "colab_type": "code",
    "id": "A1f0nR4AQ_0D"
   },
   "outputs": [
    {
     "name": "stdout",
     "output_type": "stream",
     "text": [
      "5\n"
     ]
    }
   ],
   "source": [
    "s = 'azcbobobegghakl'\n",
    "\n",
    "count = 0\n",
    "for char in s:\n",
    "    if char in ['a','e','i','o','u']:\n",
    "        count +=1\n",
    "        \n",
    "print(count)"
   ]
  },
  {
   "cell_type": "code",
   "execution_count": 31,
   "metadata": {
    "colab": {},
    "colab_type": "code",
    "id": "k7K0NNebXhKw"
   },
   "outputs": [
    {
     "data": {
      "text/plain": [
       "5"
      ]
     },
     "execution_count": 31,
     "metadata": {},
     "output_type": "execute_result"
    }
   ],
   "source": [
    "s.count('a') + s.count('e') + s.count('i') + s.count('o') + s.count('u')"
   ]
  },
  {
   "cell_type": "code",
   "execution_count": 27,
   "metadata": {},
   "outputs": [
    {
     "data": {
      "text/plain": [
       "['Hello', 'World']"
      ]
     },
     "execution_count": 27,
     "metadata": {},
     "output_type": "execute_result"
    }
   ],
   "source": [
    "list(map(str.capitalize, [\"hello\" , \"world\"]))"
   ]
  },
  {
   "cell_type": "code",
   "execution_count": 28,
   "metadata": {},
   "outputs": [
    {
     "data": {
      "text/plain": [
       "[2, 1, 0, 2, 0]"
      ]
     },
     "execution_count": 28,
     "metadata": {},
     "output_type": "execute_result"
    }
   ],
   "source": [
    "list(map(s.count,['a','e','i','o','u'] ))"
   ]
  },
  {
   "cell_type": "code",
   "execution_count": 29,
   "metadata": {},
   "outputs": [
    {
     "data": {
      "text/plain": [
       "5"
      ]
     },
     "execution_count": 29,
     "metadata": {},
     "output_type": "execute_result"
    }
   ],
   "source": [
    "sum(map(s.count,['a','e','i','o','u'] ))"
   ]
  },
  {
   "cell_type": "code",
   "execution_count": 30,
   "metadata": {},
   "outputs": [
    {
     "data": {
      "text/plain": [
       "5"
      ]
     },
     "execution_count": 30,
     "metadata": {},
     "output_type": "execute_result"
    }
   ],
   "source": [
    "def mymap(func,collection):\n",
    "    return [func(item) for item in collection]\n",
    "sum(mymap(s.count,['a','e','i','o','u'] ))"
   ]
  },
  {
   "cell_type": "code",
   "execution_count": null,
   "metadata": {},
   "outputs": [],
   "source": []
  },
  {
   "cell_type": "code",
   "execution_count": null,
   "metadata": {},
   "outputs": [],
   "source": []
  }
 ],
 "metadata": {
  "colab": {
   "collapsed_sections": [],
   "name": "Module 0 - Python foundation workshop.ipynb",
   "provenance": [],
   "version": "0.3.2"
  },
  "kernelspec": {
   "display_name": "Python 3",
   "language": "python",
   "name": "python3"
  },
  "language_info": {
   "codemirror_mode": {
    "name": "ipython",
    "version": 3
   },
   "file_extension": ".py",
   "mimetype": "text/x-python",
   "name": "python",
   "nbconvert_exporter": "python",
   "pygments_lexer": "ipython3",
   "version": "3.7.3"
  }
 },
 "nbformat": 4,
 "nbformat_minor": 1
}
