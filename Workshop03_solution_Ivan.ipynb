{
 "cells": [
  {
   "cell_type": "markdown",
   "metadata": {},
   "source": [
    "# Module 2:\n",
    "Make API call\n",
    "- Collect data from API &amp; store in csv\n",
    "- Scrape static websites &amp; store in csv\n",
    "---\n",
    "Scenario\n",
    "---\n",
    "\n",
    "1. You have been given a API with api documentation.\n",
    "2. Make api call from python & store the resp in a python dict\n",
    "2. (2A) *Optional*: Store the resp dict into a file (json)\n",
    "\n",
    "3. Parse the following info from the API Response.\n",
    "\n",
    "Example: URL \n",
    "\n",
    "https://min-api.cryptocompare.com/data/price?fsym=USD&tsyms=JPY,INR\n",
    "```\n",
    "{\n",
    "\"JPY\": 107.93,\n",
    "\"INR\": 84.82\n",
    "}\n",
    "```\n",
    "4. Store that parsed infomation/data into a csv file.\n",
    "\n",
    "| sno | from_symbol | to_symbol | price | datetime |\n",
    "| ---  | ---  | ---  | ---  | --- |\n",
    "| 1 | USD | INR | 71 | ... |\n",
    "| 2 | USD | SGD | 1.37| ... |\n",
    "\n",
    "use python `time` or `datetime` module to get the current time, when you make api call and store that into the csv file..\n",
    "\n",
    "\n",
    "## Part 2: Scrape static websites\n",
    "\n",
    "\n",
    "https://www.xe.com/currencyconverter/convert/?Amount=1&From=USD&To=SGD\n",
    "\n",
    "\n",
    "![https://i.imgur.com/C4Eub9d.png](https://i.imgur.com/C4Eub9d.png)\n",
    "\n",
    "\n",
    "\n",
    "Have a look at the html as well, to parse the exchange rate.\n",
    "\n",
    "![https://i.imgur.com/vDAntcv.png](https://i.imgur.com/vDAntcv.png)\n",
    "\n",
    "1. Look at the query parameter and decide how to pass inputs..\n",
    "2. Use `bs4` library to parse the html as show below.\n",
    "3. You have to extract the price shown here and save it into a csv file..\n",
    "\n",
    "| sno | from_symbol | to_symbol | price | datetime |\n",
    "| ---  | ---  | ---  | ---  | --- |\n",
    "| 1 | USD | SGD | 1.37| ... |\n",
    "\n",
    "--- \n",
    "\n",
    "\n",
    "** Try this if you completed the base workshop **\n",
    "---\n",
    "1. Store the same data into mongodb as well\n",
    "  - create a `exchange` db in your mlab account.\n",
    "  - create a collection `exchange-rates`\n",
    "  - You can store sample record which looks like the following json.\n",
    "\n",
    "```\n",
    "{\n",
    "    \"from_symbol\": \"USD\",\n",
    "    'to_symbol' : \"SGD\",\n",
    "    \"price\" : 1.37,\n",
    "    \"datetime\" : \"....\"\n",
    "}\n",
    "```"
   ]
  },
  {
   "cell_type": "markdown",
   "metadata": {},
   "source": [
    "## Solution to Part 1 -- ( initial by part runs )"
   ]
  },
  {
   "cell_type": "code",
   "execution_count": 1,
   "metadata": {},
   "outputs": [
    {
     "name": "stdout",
     "output_type": "stream",
     "text": [
      "url = https://min-api.cryptocompare.com/data/price?fsym=USD&tsyms=JPY,INR\n",
      "<Response [200]>\n",
      "2019-09-23 15:43:36.990244\n",
      "{\"JPY\":107.68,\"INR\":74.62}\n",
      "<class 'str'>\n"
     ]
    }
   ],
   "source": [
    "fsym = \"USD\"\n",
    "tsyms = \"JPY,INR\"\n",
    "\n",
    "url = f\"https://min-api.cryptocompare.com/data/price?fsym={fsym}&tsyms={tsyms}\"\n",
    "print(f\"url = {url}\")      # print to check URL\n",
    "\n",
    "import requests, json, datetime, pathlib, csv\n",
    "\n",
    "resp = requests.get(url)\n",
    "x = datetime.datetime.now()   # Get current time\n",
    "\n",
    "print(resp)              # If response = 200 , then it is successful.\n",
    "print(str(x))            # print DateTime in a string format\n",
    "\n",
    "print(resp.text)         # print resp.text out\n",
    "print(type(resp.text))   # Check type , result is a str"
   ]
  },
  {
   "cell_type": "code",
   "execution_count": 2,
   "metadata": {},
   "outputs": [
    {
     "name": "stdout",
     "output_type": "stream",
     "text": [
      "<class 'dict'>\n",
      "{'JPY': 107.68, 'INR': 74.62}\n"
     ]
    }
   ],
   "source": [
    "data = resp.json()            # Store the resp in a python dict\n",
    "\n",
    "print(type(data))             # Check type , result = dict\n",
    "print(data)                   # Display data in dict form."
   ]
  },
  {
   "cell_type": "markdown",
   "metadata": {},
   "source": [
    "## Solution to Part 1 (2A) -- ( initial )\n",
    "\n",
    "#####   --   (2A) Optional: Store the resp dict into a file (json)"
   ]
  },
  {
   "cell_type": "code",
   "execution_count": 3,
   "metadata": {},
   "outputs": [],
   "source": [
    "with open('data.json', 'w') as fp:          # Save dict into a file with json\n",
    "    json.dump(data, fp)"
   ]
  },
  {
   "cell_type": "code",
   "execution_count": 4,
   "metadata": {},
   "outputs": [
    {
     "data": {
      "text/plain": [
       "{'JPY': 107.68, 'INR': 74.62}"
      ]
     },
     "execution_count": 4,
     "metadata": {},
     "output_type": "execute_result"
    }
   ],
   "source": [
    "with open('data.json', 'r') as fp:          # Extract dict from a file into new variable\n",
    "    data2 = json.load(fp)\n",
    "\n",
    "data2      # Display data from new variable"
   ]
  },
  {
   "cell_type": "code",
   "execution_count": 5,
   "metadata": {},
   "outputs": [],
   "source": [
    "with open('data.json', 'a+') as fp:          # Append dict into a file with json -- But can't read back issue.\n",
    "    json.dump(data, fp)"
   ]
  },
  {
   "cell_type": "code",
   "execution_count": 6,
   "metadata": {},
   "outputs": [
    {
     "data": {
      "text/html": [
       "<div>\n",
       "<style scoped>\n",
       "    .dataframe tbody tr th:only-of-type {\n",
       "        vertical-align: middle;\n",
       "    }\n",
       "\n",
       "    .dataframe tbody tr th {\n",
       "        vertical-align: top;\n",
       "    }\n",
       "\n",
       "    .dataframe thead th {\n",
       "        text-align: right;\n",
       "    }\n",
       "</style>\n",
       "<table border=\"1\" class=\"dataframe\">\n",
       "  <thead>\n",
       "    <tr style=\"text-align: right;\">\n",
       "      <th></th>\n",
       "      <th>0</th>\n",
       "      <th>2</th>\n",
       "    </tr>\n",
       "  </thead>\n",
       "  <tbody>\n",
       "    <tr>\n",
       "      <th>JPY</th>\n",
       "      <td>107.68</td>\n",
       "      <td>2019-09-23 15:43:36.990244</td>\n",
       "    </tr>\n",
       "    <tr>\n",
       "      <th>INR</th>\n",
       "      <td>74.62</td>\n",
       "      <td>2019-09-23 15:43:36.990244</td>\n",
       "    </tr>\n",
       "  </tbody>\n",
       "</table>\n",
       "</div>"
      ],
      "text/plain": [
       "          0                          2\n",
       "JPY  107.68 2019-09-23 15:43:36.990244\n",
       "INR   74.62 2019-09-23 15:43:36.990244"
      ]
     },
     "execution_count": 6,
     "metadata": {},
     "output_type": "execute_result"
    }
   ],
   "source": [
    "import pandas as pd\n",
    "\n",
    "# Convert json dataset from dict to DataFrame\n",
    "dfs = pd.DataFrame.from_dict(data, orient='index')\n",
    "dfs[2] = x     # Add datetime in to a new column inside DataFrame\n",
    "dfs"
   ]
  },
  {
   "cell_type": "code",
   "execution_count": null,
   "metadata": {},
   "outputs": [],
   "source": []
  },
  {
   "cell_type": "markdown",
   "metadata": {},
   "source": [
    "## CSV write function"
   ]
  },
  {
   "cell_type": "code",
   "execution_count": 7,
   "metadata": {},
   "outputs": [],
   "source": [
    "fname = \"WS03_Part1_rates.csv\"\n",
    "\n",
    "def save_to_csv(fname, datainput):\n",
    "    if not pathlib.Path(fname).exists():               # To check & create new Header/Title.\n",
    "        with open(fname, mode='w', newline='') as f:\n",
    "            csv_writer = csv.writer(f)\n",
    "            row_header = [\"from_symbol\", \"to_symbol\", \"price\", \"datetime\"]\n",
    "            csv_writer.writerow(row_header)            # To write data (Title/Header)\n",
    "            \n",
    "    with open(fname, mode='a', newline='') as f:       # To write data -- append\n",
    "        csv.writer(f).writerow(datainput)              # To write data -- (simplify vs. 2 line @ title)\n",
    "        \n",
    "for i, (tsym, rate) in enumerate(data.items()):        # data ... from json\n",
    "    row = [fsym, tsym, rate, x]\n",
    "    save_to_csv(fname, row)                            # call def function to save into csv\n",
    "    "
   ]
  },
  {
   "cell_type": "code",
   "execution_count": null,
   "metadata": {},
   "outputs": [],
   "source": []
  },
  {
   "cell_type": "markdown",
   "metadata": {},
   "source": [
    "# Solution to Part 1 -- ( FINAL )"
   ]
  },
  {
   "cell_type": "code",
   "execution_count": 8,
   "metadata": {},
   "outputs": [
    {
     "name": "stdout",
     "output_type": "stream",
     "text": [
      "url = https://min-api.cryptocompare.com/data/price?fsym=USD&tsyms=JPY,INR,SGD\n"
     ]
    }
   ],
   "source": [
    "fsym = \"USD\"\n",
    "tsyms = \"JPY,INR,SGD\"\n",
    "\n",
    "url = f\"https://min-api.cryptocompare.com/data/price?fsym={fsym}&tsyms={tsyms}\"\n",
    "print(f\"url = {url}\")      # print to check URL\n",
    "\n",
    "import requests, json, datetime, pathlib, csv\n",
    "\n",
    "resp = requests.get(url)\n",
    "x = datetime.datetime.now()   # Get current time\n",
    "data = resp.json()            # Store the resp in a python dict\n",
    "\n",
    "fname = \"WS03_Part1_rates.csv\"\n",
    "\n",
    "def save_to_csv(fname, datainput):\n",
    "    if not pathlib.Path(fname).exists():               # To check & create new Header/Title.\n",
    "        with open(fname, mode='w', newline='') as f:\n",
    "            csv_writer = csv.writer(f)\n",
    "            row_header = [\"from_symbol\", \"to_symbol\", \"price\", \"datetime\"]\n",
    "            csv_writer.writerow(row_header)            # To write data (Title/Header)\n",
    "            \n",
    "    with open(fname, mode='a', newline='') as f:       # To write data -- append\n",
    "        csv.writer(f).writerow(datainput)              # To write data -- (simplify vs. 2 lines @ Title)\n",
    "        \n",
    "\n",
    "for i, (tsym, rate) in enumerate(data.items()):        # data ... from json\n",
    "    row = [fsym, tsym, rate, x]\n",
    "    save_to_csv(fname, row)                            # call def function to save into csv\n",
    "    "
   ]
  },
  {
   "cell_type": "code",
   "execution_count": 9,
   "metadata": {},
   "outputs": [
    {
     "data": {
      "text/html": [
       "<div>\n",
       "<style scoped>\n",
       "    .dataframe tbody tr th:only-of-type {\n",
       "        vertical-align: middle;\n",
       "    }\n",
       "\n",
       "    .dataframe tbody tr th {\n",
       "        vertical-align: top;\n",
       "    }\n",
       "\n",
       "    .dataframe thead th {\n",
       "        text-align: right;\n",
       "    }\n",
       "</style>\n",
       "<table border=\"1\" class=\"dataframe\">\n",
       "  <thead>\n",
       "    <tr style=\"text-align: right;\">\n",
       "      <th></th>\n",
       "      <th>from_symbol</th>\n",
       "      <th>to_symbol</th>\n",
       "      <th>price</th>\n",
       "      <th>datetime</th>\n",
       "    </tr>\n",
       "    <tr>\n",
       "      <th>sno</th>\n",
       "      <th></th>\n",
       "      <th></th>\n",
       "      <th></th>\n",
       "      <th></th>\n",
       "    </tr>\n",
       "  </thead>\n",
       "  <tbody>\n",
       "    <tr>\n",
       "      <th>1</th>\n",
       "      <td>USD</td>\n",
       "      <td>JPY</td>\n",
       "      <td>107.680</td>\n",
       "      <td>2019-09-23 15:43:36.990244</td>\n",
       "    </tr>\n",
       "    <tr>\n",
       "      <th>2</th>\n",
       "      <td>USD</td>\n",
       "      <td>INR</td>\n",
       "      <td>74.620</td>\n",
       "      <td>2019-09-23 15:43:36.990244</td>\n",
       "    </tr>\n",
       "    <tr>\n",
       "      <th>3</th>\n",
       "      <td>USD</td>\n",
       "      <td>JPY</td>\n",
       "      <td>107.690</td>\n",
       "      <td>2019-09-23 15:43:39.266619</td>\n",
       "    </tr>\n",
       "    <tr>\n",
       "      <th>4</th>\n",
       "      <td>USD</td>\n",
       "      <td>INR</td>\n",
       "      <td>74.620</td>\n",
       "      <td>2019-09-23 15:43:39.266619</td>\n",
       "    </tr>\n",
       "    <tr>\n",
       "      <th>5</th>\n",
       "      <td>USD</td>\n",
       "      <td>SGD</td>\n",
       "      <td>1.376</td>\n",
       "      <td>2019-09-23 15:43:39.266619</td>\n",
       "    </tr>\n",
       "  </tbody>\n",
       "</table>\n",
       "</div>"
      ],
      "text/plain": [
       "    from_symbol to_symbol    price                    datetime\n",
       "sno                                                           \n",
       "1           USD       JPY  107.680  2019-09-23 15:43:36.990244\n",
       "2           USD       INR   74.620  2019-09-23 15:43:36.990244\n",
       "3           USD       JPY  107.690  2019-09-23 15:43:39.266619\n",
       "4           USD       INR   74.620  2019-09-23 15:43:39.266619\n",
       "5           USD       SGD    1.376  2019-09-23 15:43:39.266619"
      ]
     },
     "metadata": {},
     "output_type": "display_data"
    }
   ],
   "source": [
    "import pandas as pd\n",
    "\n",
    "df = pd.read_csv(fname)         # Read data from csv file.\n",
    "df.index.name = \"sno\"           # Place a label for index.\n",
    "df.index += 1                   # Define index start number. = 1\n",
    "\n",
    "display(df)    # Display DataFrame with Pandas package."
   ]
  },
  {
   "cell_type": "code",
   "execution_count": null,
   "metadata": {},
   "outputs": [],
   "source": []
  },
  {
   "cell_type": "code",
   "execution_count": 10,
   "metadata": {},
   "outputs": [
    {
     "name": "stdout",
     "output_type": "stream",
     "text": [
      "Requirement already satisfied: bs4 in /anaconda3/lib/python3.7/site-packages (0.0.1)\n",
      "Requirement already satisfied: beautifulsoup4 in /anaconda3/lib/python3.7/site-packages (from bs4) (4.7.1)\n",
      "Requirement already satisfied: soupsieve>=1.2 in /anaconda3/lib/python3.7/site-packages (from beautifulsoup4->bs4) (1.8)\n"
     ]
    }
   ],
   "source": [
    "!pip install bs4"
   ]
  },
  {
   "cell_type": "markdown",
   "metadata": {},
   "source": [
    "# Solution to Part 2 --- ( initial )"
   ]
  },
  {
   "cell_type": "code",
   "execution_count": 11,
   "metadata": {},
   "outputs": [
    {
     "name": "stdout",
     "output_type": "stream",
     "text": [
      "<Response [200]>\n"
     ]
    }
   ],
   "source": [
    "url = \"https://www.xe.com/currencyconverter/convert/?Amount=1&From=USD&To=SGD\"\n",
    "\n",
    "import requests, json, datetime\n",
    "from bs4 import BeautifulSoup\n",
    "\n",
    "def get_html_data(url: str ) -> str:\n",
    "    headers = {\n",
    "        'user-agent': 'Chrome/76.0.3809.100 Safari/537.36'\n",
    "    } \n",
    "    resp = requests.get( url, headers=headers )\n",
    "    print(resp)           # A status_code of 200 means that the page downloaded successfully.\n",
    "    return resp.text\n",
    "\n",
    "\n",
    "data = get_html_data( url )\n",
    "soup = BeautifulSoup(data, \"html.parser\")\n",
    "# print(type(soup))\n",
    "\n",
    "x = datetime.datetime.now()   # Get current time\n",
    "# print(x)                    # Check if DateTime is ok\n",
    "\n",
    "\n",
    "sum_tag = []\n",
    "tags = soup.find('div', attrs = {'id':'reactContainer'}) \n",
    "# tags = soup.find_all('span', attrs={'class':'converterresult-toAmount'}\n",
    "\n",
    "\n",
    "section = soup.find_all('div', attrs = {'id':'reactContainer'})\n",
    "\n",
    "# a = soup.body\n",
    "# a                 ## Becoz it is a Javascropt !!!! ... damn :()\n"
   ]
  },
  {
   "cell_type": "code",
   "execution_count": 12,
   "metadata": {},
   "outputs": [
    {
     "data": {
      "text/plain": [
       "4171"
      ]
     },
     "execution_count": 12,
     "metadata": {},
     "output_type": "execute_result"
    }
   ],
   "source": [
    "data.find('reactContainer')\n"
   ]
  },
  {
   "cell_type": "code",
   "execution_count": 13,
   "metadata": {},
   "outputs": [
    {
     "name": "stdout",
     "output_type": "stream",
     "text": [
      "[] []\n"
     ]
    }
   ],
   "source": [
    "from lxml import html\n",
    "tree = html.fromstring(resp.content)\n",
    "\n",
    "result = tree.xpath('//div[@class=\"converterresult-conversionTo\"]/text()')\n",
    "rate = tree.xpath('//span[@class=\"converterresult-toAmount\"]/text()')\n",
    "\n",
    "print(result , rate)\n"
   ]
  },
  {
   "cell_type": "code",
   "execution_count": 14,
   "metadata": {},
   "outputs": [],
   "source": [
    "# soup.__dict__"
   ]
  },
  {
   "cell_type": "code",
   "execution_count": 15,
   "metadata": {},
   "outputs": [
    {
     "data": {
      "text/plain": [
       "[bs4.element.Doctype,\n",
       " bs4.element.NavigableString,\n",
       " bs4.element.Tag,\n",
       " bs4.element.NavigableString]"
      ]
     },
     "execution_count": 15,
     "metadata": {},
     "output_type": "execute_result"
    }
   ],
   "source": [
    "[type(item) for item in list(soup.children)]"
   ]
  },
  {
   "cell_type": "code",
   "execution_count": 16,
   "metadata": {},
   "outputs": [],
   "source": [
    "# resp.content          # print out the HTML content of the page using the content property:"
   ]
  },
  {
   "cell_type": "code",
   "execution_count": 17,
   "metadata": {},
   "outputs": [
    {
     "data": {
      "text/plain": [
       "[<div id=\"reactContainer\"></div>]"
      ]
     },
     "execution_count": 17,
     "metadata": {},
     "output_type": "execute_result"
    }
   ],
   "source": [
    "soup.find_all('span', class_='converterresult-toAmount')       # This is the KEY item ... can't get ... why ?\n",
    "\n",
    "soup.find_all('div', class_='converterresult-conversionTo')\n",
    "soup.find_all('div', id='reactContainer')\n"
   ]
  },
  {
   "cell_type": "code",
   "execution_count": 18,
   "metadata": {},
   "outputs": [
    {
     "name": "stdout",
     "output_type": "stream",
     "text": [
      "[<div id=\"reactContainer\"></div>]\n"
     ]
    }
   ],
   "source": [
    "links = soup.find_all(\"div\")\n",
    "print(links)\n",
    "\n",
    "tags = soup.find(\"div\", id=\"reactContainer\")\n",
    "\n",
    "a = soup.body      # Becoz it is a Javascript !!!! ... damn :(\n",
    "# a"
   ]
  },
  {
   "cell_type": "markdown",
   "metadata": {},
   "source": [
    "# Solution to Part 2 --- ( FINAL )"
   ]
  },
  {
   "cell_type": "code",
   "execution_count": 20,
   "metadata": {},
   "outputs": [
    {
     "name": "stdout",
     "output_type": "stream",
     "text": [
      "https://www.xe.com/currencyconverter/convert/?Amount=1&From=USD&To=SGD\n",
      "<class 'bs4.BeautifulSoup'>\n",
      "1.37752\n"
     ]
    }
   ],
   "source": [
    "from selenium import webdriver                         # package within a package\n",
    "from selenium.webdriver.common.keys import Keys        # Keys is a class , not used here in this code.\n",
    "from time import sleep\n",
    "from bs4 import BeautifulSoup\n",
    "import requests, datetime\n",
    "\n",
    "\n",
    "def get_html_data_with_selenium(url):\n",
    "    driver = webdriver.Chrome()\n",
    "    driver.get( url )\n",
    "    sleep(3)\n",
    "    htmldata = driver.page_source\n",
    "    sleep(1)\n",
    "    driver.close()\n",
    "    return htmldata\n",
    "\n",
    "\n",
    "fname = \"WS03_Part2_rates.csv\"\n",
    "\n",
    "def save_to_csv(fname, datainput):\n",
    "    if not pathlib.Path(fname).exists():               # To check & create new Header/Title.\n",
    "        with open(fname, mode='w', newline='') as f:\n",
    "            csv_writer = csv.writer(f)\n",
    "            row_header = [ \"from_symbol\" , \"to_symbol\" , \"price\" , \"datetime\" ]\n",
    "            csv_writer.writerow(row_header)            # To write data (Title/Header)\n",
    "            \n",
    "    with open(fname, mode='a', newline='') as f:       # To write data -- append\n",
    "        csv.writer(f).writerow(datainput)              # To write data -- (simplify vs. 2 lines @ Title)\n",
    "\n",
    "\n",
    "_amt = \"1\"\n",
    "_from = \"USD\"\n",
    "_to = \"SGD\"\n",
    "url = f\"https://www.xe.com/currencyconverter/convert/?Amount={_amt}&From={_from}&To={_to}\"\n",
    "print(url)\n",
    "\n",
    "data = get_html_data_with_selenium(url)\n",
    "soup = BeautifulSoup(data, \"html.parser\")\n",
    "print(type(soup))          # Checkpoint if data obtained is a class.\n",
    "\n",
    "span_tag = soup.find_all(\"span\")\n",
    "\n",
    "for count_var in span_tag:     # Loop thru to find based on class tag info provided.\n",
    "    class_tag = count_var.get(\"class\")\n",
    "    \n",
    "    if class_tag and \"converterresult-toAmount\" in class_tag:\n",
    "        result = float( count_var.getText() )\n",
    "        break\n",
    "        \n",
    "print(result)              # Checkpoint if exchange data was obtained.\n",
    "\n",
    "row = [ _from , _to , result , datetime.datetime.now() ]\n",
    "save_to_csv(fname, row)    # Save data into CSV\n"
   ]
  },
  {
   "cell_type": "code",
   "execution_count": 21,
   "metadata": {},
   "outputs": [
    {
     "data": {
      "text/html": [
       "<div>\n",
       "<style scoped>\n",
       "    .dataframe tbody tr th:only-of-type {\n",
       "        vertical-align: middle;\n",
       "    }\n",
       "\n",
       "    .dataframe tbody tr th {\n",
       "        vertical-align: top;\n",
       "    }\n",
       "\n",
       "    .dataframe thead th {\n",
       "        text-align: right;\n",
       "    }\n",
       "</style>\n",
       "<table border=\"1\" class=\"dataframe\">\n",
       "  <thead>\n",
       "    <tr style=\"text-align: right;\">\n",
       "      <th></th>\n",
       "      <th>from_symbol</th>\n",
       "      <th>to_symbol</th>\n",
       "      <th>price</th>\n",
       "      <th>datetime</th>\n",
       "    </tr>\n",
       "    <tr>\n",
       "      <th>sno</th>\n",
       "      <th></th>\n",
       "      <th></th>\n",
       "      <th></th>\n",
       "      <th></th>\n",
       "    </tr>\n",
       "  </thead>\n",
       "  <tbody>\n",
       "    <tr>\n",
       "      <th>1</th>\n",
       "      <td>USD</td>\n",
       "      <td>SGD</td>\n",
       "      <td>1.37752</td>\n",
       "      <td>2019-09-23 15:45:15.654267</td>\n",
       "    </tr>\n",
       "  </tbody>\n",
       "</table>\n",
       "</div>"
      ],
      "text/plain": [
       "    from_symbol to_symbol    price                    datetime\n",
       "sno                                                           \n",
       "1           USD       SGD  1.37752  2019-09-23 15:45:15.654267"
      ]
     },
     "metadata": {},
     "output_type": "display_data"
    }
   ],
   "source": [
    "import pandas as pd\n",
    "\n",
    "df = pd.read_csv(fname)         # Read data from csv file.\n",
    "df.index.name = \"sno\"           # Place a label for index.\n",
    "df.index += 1                   # Define index start number. = 1\n",
    "\n",
    "display(df)    # Display DataFrame with Pandas package."
   ]
  },
  {
   "cell_type": "code",
   "execution_count": null,
   "metadata": {},
   "outputs": [],
   "source": []
  }
 ],
 "metadata": {
  "kernelspec": {
   "display_name": "Python 3",
   "language": "python",
   "name": "python3"
  },
  "language_info": {
   "codemirror_mode": {
    "name": "ipython",
    "version": 3
   },
   "file_extension": ".py",
   "mimetype": "text/x-python",
   "name": "python",
   "nbconvert_exporter": "python",
   "pygments_lexer": "ipython3",
   "version": "3.7.3"
  }
 },
 "nbformat": 4,
 "nbformat_minor": 2
}
