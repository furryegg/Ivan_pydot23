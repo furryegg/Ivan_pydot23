{
 "cells": [
  {
   "cell_type": "markdown",
   "metadata": {},
   "source": [
    "# Workshop 02"
   ]
  },
  {
   "cell_type": "markdown",
   "metadata": {},
   "source": [
    "1. Run some program every 30 second\n",
    "\n",
    "2. Collect some metrics cpu_usage of your machine...\n",
    "    -- 6 charecter package\n",
    "    \n",
    "3. Save into CSV\n",
    "\n",
    "##Functions"
   ]
  },
  {
   "cell_type": "code",
   "execution_count": 9,
   "metadata": {},
   "outputs": [
    {
     "name": "stdout",
     "output_type": "stream",
     "text": [
      "Do something ... please input an interger number: \n",
      "None10\n",
      "I am doing something.... 1\n",
      "I am doing something.... 2\n",
      "I am doing something.... 3\n",
      "I am doing something.... 4\n",
      "I am doing something.... 5\n",
      "I am doing something.... 6\n",
      "I am doing something.... 7\n",
      "I am doing something.... 8\n",
      "I am doing something.... 9\n",
      "I am doing something.... 10\n"
     ]
    }
   ],
   "source": [
    "### Solution for item 1\n",
    "\n",
    "import time\n",
    "\n",
    "def dosomething(a):\n",
    "    print( \"I am doing something....\", a )\n",
    "\n",
    "\n",
    "b = int(input(print(\"Do something ... please input an interger number: \")))  # Taking input as Integer\n",
    "\n",
    "a = 0 # Interlock pre-setup.\n",
    "\n",
    "while True:\n",
    "    dosomething(a + 1)\n",
    "    time.sleep(1)\n",
    "    a += 1\n",
    "        \n",
    "    if a == b:  # Interlock to stop while loop from going infinite (user defined)\n",
    "        break\n",
    "    "
   ]
  },
  {
   "cell_type": "code",
   "execution_count": 2,
   "metadata": {},
   "outputs": [
    {
     "data": {
      "text/plain": [
       "{'total': 8589934592,\n",
       " 'available': 1786007552,\n",
       " 'percent': 79.2,\n",
       " 'used': 4864061440,\n",
       " 'free': 39288832,\n",
       " 'active': 1749762048,\n",
       " 'inactive': 1741910016,\n",
       " 'wired': 3114299392}"
      ]
     },
     "execution_count": 2,
     "metadata": {},
     "output_type": "execute_result"
    }
   ],
   "source": [
    "### Test sample code for psutil\n",
    "\n",
    "import psutil\n",
    "\n",
    "psutil.cpu_percent() # gives a single float value\n",
    "\n",
    "psutil.virtual_memory() # gives an object with many fields\n",
    "\n",
    "dict(psutil.virtual_memory()._asdict()) # you can convert that object to a dictionary \n"
   ]
  },
  {
   "cell_type": "code",
   "execution_count": 3,
   "metadata": {},
   "outputs": [
    {
     "data": {
      "text/plain": [
       "8.6"
      ]
     },
     "execution_count": 3,
     "metadata": {},
     "output_type": "execute_result"
    }
   ],
   "source": [
    "### Test sample code for psutil\n",
    "\n",
    "import psutil\n",
    "psutil.cpu_percent() # gives a single float value"
   ]
  },
  {
   "cell_type": "code",
   "execution_count": 4,
   "metadata": {},
   "outputs": [
    {
     "data": {
      "text/plain": [
       "svmem(total=8589934592, available=1795203072, percent=79.1, used=4847648768, free=22634496, active=1778573312, inactive=1769799680, wired=3069075456)"
      ]
     },
     "execution_count": 4,
     "metadata": {},
     "output_type": "execute_result"
    }
   ],
   "source": [
    "### Test sample code for psutil\n",
    "\n",
    "import psutil\n",
    "psutil.virtual_memory() # gives an object with many fields"
   ]
  },
  {
   "cell_type": "code",
   "execution_count": 5,
   "metadata": {},
   "outputs": [
    {
     "data": {
      "text/plain": [
       "'Sat Sep 21 13:09:53 2019'"
      ]
     },
     "execution_count": 5,
     "metadata": {},
     "output_type": "execute_result"
    }
   ],
   "source": [
    "### Test sample code for psutil\n",
    "\n",
    "import psutil\n",
    "psutil.time.ctime()"
   ]
  },
  {
   "cell_type": "code",
   "execution_count": 16,
   "metadata": {},
   "outputs": [
    {
     "data": {
      "text/html": [
       "<div>\n",
       "<style scoped>\n",
       "    .dataframe tbody tr th:only-of-type {\n",
       "        vertical-align: middle;\n",
       "    }\n",
       "\n",
       "    .dataframe tbody tr th {\n",
       "        vertical-align: top;\n",
       "    }\n",
       "\n",
       "    .dataframe thead th {\n",
       "        text-align: right;\n",
       "    }\n",
       "</style>\n",
       "<table border=\"1\" class=\"dataframe\">\n",
       "  <thead>\n",
       "    <tr style=\"text-align: right;\">\n",
       "      <th></th>\n",
       "      <th>cpu_percent</th>\n",
       "      <th>memory_percent</th>\n",
       "      <th>current_time</th>\n",
       "    </tr>\n",
       "  </thead>\n",
       "  <tbody>\n",
       "    <tr>\n",
       "      <th>0</th>\n",
       "      <td>23.1</td>\n",
       "      <td>73.5</td>\n",
       "      <td>2019-09-20 18:52:40.880861</td>\n",
       "    </tr>\n",
       "    <tr>\n",
       "      <th>1</th>\n",
       "      <td>24.4</td>\n",
       "      <td>74.1</td>\n",
       "      <td>2019-09-20 18:52:45.884203</td>\n",
       "    </tr>\n",
       "    <tr>\n",
       "      <th>2</th>\n",
       "      <td>20.8</td>\n",
       "      <td>73.3</td>\n",
       "      <td>2019-09-20 18:52:50.885072</td>\n",
       "    </tr>\n",
       "    <tr>\n",
       "      <th>3</th>\n",
       "      <td>19.1</td>\n",
       "      <td>73.2</td>\n",
       "      <td>2019-09-20 18:52:55.887895</td>\n",
       "    </tr>\n",
       "    <tr>\n",
       "      <th>4</th>\n",
       "      <td>18.8</td>\n",
       "      <td>73.1</td>\n",
       "      <td>2019-09-20 18:53:00.891352</td>\n",
       "    </tr>\n",
       "    <tr>\n",
       "      <th>5</th>\n",
       "      <td>19.7</td>\n",
       "      <td>72.8</td>\n",
       "      <td>2019-09-20 18:53:05.893226</td>\n",
       "    </tr>\n",
       "    <tr>\n",
       "      <th>6</th>\n",
       "      <td>18.6</td>\n",
       "      <td>72.8</td>\n",
       "      <td>2019-09-20 18:53:10.895003</td>\n",
       "    </tr>\n",
       "    <tr>\n",
       "      <th>7</th>\n",
       "      <td>17.9</td>\n",
       "      <td>73.0</td>\n",
       "      <td>2019-09-20 18:53:15.896750</td>\n",
       "    </tr>\n",
       "    <tr>\n",
       "      <th>8</th>\n",
       "      <td>19.7</td>\n",
       "      <td>73.2</td>\n",
       "      <td>2019-09-20 18:53:20.900930</td>\n",
       "    </tr>\n",
       "    <tr>\n",
       "      <th>9</th>\n",
       "      <td>17.0</td>\n",
       "      <td>74.5</td>\n",
       "      <td>2019-09-20 18:53:25.902019</td>\n",
       "    </tr>\n",
       "    <tr>\n",
       "      <th>10</th>\n",
       "      <td>11.6</td>\n",
       "      <td>73.2</td>\n",
       "      <td>2019-09-20 18:53:30.902459</td>\n",
       "    </tr>\n",
       "    <tr>\n",
       "      <th>11</th>\n",
       "      <td>15.0</td>\n",
       "      <td>73.7</td>\n",
       "      <td>2019-09-20 18:53:35.903069</td>\n",
       "    </tr>\n",
       "    <tr>\n",
       "      <th>12</th>\n",
       "      <td>20.8</td>\n",
       "      <td>74.3</td>\n",
       "      <td>2019-09-20 18:53:40.905665</td>\n",
       "    </tr>\n",
       "    <tr>\n",
       "      <th>13</th>\n",
       "      <td>25.7</td>\n",
       "      <td>73.7</td>\n",
       "      <td>2019-09-20 18:53:45.906097</td>\n",
       "    </tr>\n",
       "    <tr>\n",
       "      <th>14</th>\n",
       "      <td>20.2</td>\n",
       "      <td>73.6</td>\n",
       "      <td>2019-09-20 18:53:50.915140</td>\n",
       "    </tr>\n",
       "    <tr>\n",
       "      <th>15</th>\n",
       "      <td>19.2</td>\n",
       "      <td>73.6</td>\n",
       "      <td>2019-09-20 18:53:55.918788</td>\n",
       "    </tr>\n",
       "    <tr>\n",
       "      <th>16</th>\n",
       "      <td>16.8</td>\n",
       "      <td>73.6</td>\n",
       "      <td>2019-09-20 18:54:00.922032</td>\n",
       "    </tr>\n",
       "    <tr>\n",
       "      <th>17</th>\n",
       "      <td>21.6</td>\n",
       "      <td>73.8</td>\n",
       "      <td>2019-09-20 18:54:05.923827</td>\n",
       "    </tr>\n",
       "    <tr>\n",
       "      <th>18</th>\n",
       "      <td>19.7</td>\n",
       "      <td>73.9</td>\n",
       "      <td>2019-09-20 18:54:10.924576</td>\n",
       "    </tr>\n",
       "    <tr>\n",
       "      <th>19</th>\n",
       "      <td>22.1</td>\n",
       "      <td>73.1</td>\n",
       "      <td>2019-09-20 18:54:15.929418</td>\n",
       "    </tr>\n",
       "    <tr>\n",
       "      <th>20</th>\n",
       "      <td>24.5</td>\n",
       "      <td>74.0</td>\n",
       "      <td>2019-09-20 18:54:20.930410</td>\n",
       "    </tr>\n",
       "    <tr>\n",
       "      <th>21</th>\n",
       "      <td>22.7</td>\n",
       "      <td>73.6</td>\n",
       "      <td>2019-09-20 18:54:25.933617</td>\n",
       "    </tr>\n",
       "    <tr>\n",
       "      <th>22</th>\n",
       "      <td>21.2</td>\n",
       "      <td>73.7</td>\n",
       "      <td>2019-09-20 18:54:30.934386</td>\n",
       "    </tr>\n",
       "    <tr>\n",
       "      <th>23</th>\n",
       "      <td>20.8</td>\n",
       "      <td>73.7</td>\n",
       "      <td>2019-09-20 18:54:35.937052</td>\n",
       "    </tr>\n",
       "    <tr>\n",
       "      <th>24</th>\n",
       "      <td>18.8</td>\n",
       "      <td>73.7</td>\n",
       "      <td>2019-09-20 18:54:40.937897</td>\n",
       "    </tr>\n",
       "    <tr>\n",
       "      <th>25</th>\n",
       "      <td>18.6</td>\n",
       "      <td>73.6</td>\n",
       "      <td>2019-09-20 18:54:45.938651</td>\n",
       "    </tr>\n",
       "    <tr>\n",
       "      <th>26</th>\n",
       "      <td>20.2</td>\n",
       "      <td>73.6</td>\n",
       "      <td>2019-09-20 18:54:50.939155</td>\n",
       "    </tr>\n",
       "    <tr>\n",
       "      <th>27</th>\n",
       "      <td>21.2</td>\n",
       "      <td>75.1</td>\n",
       "      <td>2019-09-20 18:54:55.939670</td>\n",
       "    </tr>\n",
       "    <tr>\n",
       "      <th>28</th>\n",
       "      <td>23.8</td>\n",
       "      <td>74.9</td>\n",
       "      <td>2019-09-20 18:55:00.942904</td>\n",
       "    </tr>\n",
       "    <tr>\n",
       "      <th>29</th>\n",
       "      <td>23.7</td>\n",
       "      <td>74.8</td>\n",
       "      <td>2019-09-20 18:55:05.946100</td>\n",
       "    </tr>\n",
       "  </tbody>\n",
       "</table>\n",
       "</div>"
      ],
      "text/plain": [
       "    cpu_percent  memory_percent                current_time\n",
       "0          23.1            73.5  2019-09-20 18:52:40.880861\n",
       "1          24.4            74.1  2019-09-20 18:52:45.884203\n",
       "2          20.8            73.3  2019-09-20 18:52:50.885072\n",
       "3          19.1            73.2  2019-09-20 18:52:55.887895\n",
       "4          18.8            73.1  2019-09-20 18:53:00.891352\n",
       "5          19.7            72.8  2019-09-20 18:53:05.893226\n",
       "6          18.6            72.8  2019-09-20 18:53:10.895003\n",
       "7          17.9            73.0  2019-09-20 18:53:15.896750\n",
       "8          19.7            73.2  2019-09-20 18:53:20.900930\n",
       "9          17.0            74.5  2019-09-20 18:53:25.902019\n",
       "10         11.6            73.2  2019-09-20 18:53:30.902459\n",
       "11         15.0            73.7  2019-09-20 18:53:35.903069\n",
       "12         20.8            74.3  2019-09-20 18:53:40.905665\n",
       "13         25.7            73.7  2019-09-20 18:53:45.906097\n",
       "14         20.2            73.6  2019-09-20 18:53:50.915140\n",
       "15         19.2            73.6  2019-09-20 18:53:55.918788\n",
       "16         16.8            73.6  2019-09-20 18:54:00.922032\n",
       "17         21.6            73.8  2019-09-20 18:54:05.923827\n",
       "18         19.7            73.9  2019-09-20 18:54:10.924576\n",
       "19         22.1            73.1  2019-09-20 18:54:15.929418\n",
       "20         24.5            74.0  2019-09-20 18:54:20.930410\n",
       "21         22.7            73.6  2019-09-20 18:54:25.933617\n",
       "22         21.2            73.7  2019-09-20 18:54:30.934386\n",
       "23         20.8            73.7  2019-09-20 18:54:35.937052\n",
       "24         18.8            73.7  2019-09-20 18:54:40.937897\n",
       "25         18.6            73.6  2019-09-20 18:54:45.938651\n",
       "26         20.2            73.6  2019-09-20 18:54:50.939155\n",
       "27         21.2            75.1  2019-09-20 18:54:55.939670\n",
       "28         23.8            74.9  2019-09-20 18:55:00.942904\n",
       "29         23.7            74.8  2019-09-20 18:55:05.946100"
      ]
     },
     "execution_count": 16,
     "metadata": {},
     "output_type": "execute_result"
    }
   ],
   "source": [
    "### Test sample code for CSV read\n",
    "\n",
    "import pandas as pd\n",
    "import matplotlib.pyplot as plt\n",
    "\n",
    "df = pd.read_csv(r'/Users/ivanlim/Desktop/2019_NUS_Python/Test_files/cpu_mem.csv')\n",
    "df\n",
    "\n",
    "#df.head()\n",
    "# cpu_percent , memory_percent , current_time\n"
   ]
  },
  {
   "cell_type": "code",
   "execution_count": 17,
   "metadata": {},
   "outputs": [
    {
     "data": {
      "text/plain": [
       "<matplotlib.axes._subplots.AxesSubplot at 0x117c8eef0>"
      ]
     },
     "execution_count": 17,
     "metadata": {},
     "output_type": "execute_result"
    },
    {
     "data": {
      "image/png": "[encoded data removed]",
      "text/plain": [
       "<Figure size 432x288 with 1 Axes>"
      ]
     },
     "metadata": {
      "needs_background": "light"
     },
     "output_type": "display_data"
    }
   ],
   "source": [
    "df.cpu_percent.plot()"
   ]
  },
  {
   "cell_type": "code",
   "execution_count": 18,
   "metadata": {},
   "outputs": [
    {
     "data": {
      "text/plain": [
       "<matplotlib.axes._subplots.AxesSubplot at 0x117da0f98>"
      ]
     },
     "execution_count": 18,
     "metadata": {},
     "output_type": "execute_result"
    },
    {
     "data": {
      "image/png": "[encoded data removed]",
      "text/plain": [
       "<Figure size 432x288 with 1 Axes>"
      ]
     },
     "metadata": {
      "needs_background": "light"
     },
     "output_type": "display_data"
    }
   ],
   "source": [
    "df.memory_percent.plot()"
   ]
  },
  {
   "cell_type": "markdown",
   "metadata": {},
   "source": [
    "# Sample 1 solution of Workshop02"
   ]
  },
  {
   "cell_type": "code",
   "execution_count": 19,
   "metadata": {},
   "outputs": [
    {
     "name": "stdout",
     "output_type": "stream",
     "text": [
      "8.7 81.7 2019-09-21 13:14:19.902247\n",
      "9.3 81.8 2019-09-21 13:14:22.902651\n",
      "4.1 80.7 2019-09-21 13:14:25.904578\n",
      "2.2 80.5 2019-09-21 13:14:28.908249\n",
      "4.8 80.7 2019-09-21 13:14:31.910106\n",
      "4.7 80.7 2019-09-21 13:14:34.914449\n",
      "8.9 80.1 2019-09-21 13:14:37.915014\n",
      "4.3 80.1 2019-09-21 13:14:40.918550\n",
      "2.9 79.9 2019-09-21 13:14:43.922907\n",
      "8.3 80.1 2019-09-21 13:14:46.926176\n",
      "9.8 80.2 2019-09-21 13:14:49.928138\n",
      "10.7 80.2 2019-09-21 13:14:52.929605\n",
      "6.4 80.1 2019-09-21 13:14:55.931215\n",
      "8.9 79.9 2019-09-21 13:14:58.932806\n",
      "9.7 80.1 2019-09-21 13:15:01.937592\n",
      "6.2 80.4 2019-09-21 13:15:04.940411\n",
      "9.6 80.1 2019-09-21 13:15:07.946712\n",
      "7.5 80.2 2019-09-21 13:15:10.951163\n",
      "4.8 80.6 2019-09-21 13:15:13.955502\n",
      "2.0 80.6 2019-09-21 13:15:16.959491\n",
      "1.1 80.7 2019-09-21 13:15:19.965359\n",
      "4.8 80.4 2019-09-21 13:15:22.969604\n",
      "6.5 81.5 2019-09-21 13:15:25.970576\n",
      "12.1 82.7 2019-09-21 13:15:28.971268\n",
      "11.9 82.1 2019-09-21 13:15:31.974745\n",
      "12.9 82.6 2019-09-21 13:15:34.978290\n",
      "4.9 82.7 2019-09-21 13:15:37.981517\n",
      "6.3 80.3 2019-09-21 13:15:40.983851\n",
      "5.5 80.2 2019-09-21 13:15:43.984662\n",
      "9.8 80.3 2019-09-21 13:15:46.987367\n"
     ]
    }
   ],
   "source": [
    "import psutil as p\n",
    "from datetime import datetime\n",
    "import time\n",
    "import csv\n",
    "\n",
    "fname = r'/Users/ivanlim/Desktop/2019_NUS_Python/Test_files/workshop2_out.csv'\n",
    "f = open ( fname, mode='a' )\n",
    "csv_writer = csv.writer(f)\n",
    "row = [ \"cpu_percent\" , \"memory_percent\" , \"timestamp\" ]\n",
    "csv_writer.writerow(row)\n",
    "\n",
    "a = 0\n",
    "\n",
    "while True:\n",
    "    cpu_mem = p.virtual_memory()\n",
    "    print( p.cpu_percent() , cpu_mem.percent , datetime.now() )\n",
    "    row1 = [ p.cpu_percent() , cpu_mem.percent , datetime.now() ]\n",
    "    csv_writer.writerow(row1)\n",
    "    time.sleep(3)\n",
    "    a += 1\n",
    "    \n",
    "    if a == 30:\n",
    "        break\n",
    "    \n",
    "    \n",
    "f.close()\n"
   ]
  },
  {
   "cell_type": "code",
   "execution_count": 20,
   "metadata": {},
   "outputs": [
    {
     "name": "stdout",
     "output_type": "stream",
     "text": [
      "Requirement already satisfied: schedule in /anaconda3/lib/python3.7/site-packages (0.6.0)\r\n"
     ]
    }
   ],
   "source": [
    "!pip install schedule"
   ]
  },
  {
   "cell_type": "markdown",
   "metadata": {},
   "source": [
    "# Scheduler in Python sample package\n",
    "\n",
    "-- schedule\n",
    "-- advance python scheduler\n"
   ]
  },
  {
   "cell_type": "code",
   "execution_count": 21,
   "metadata": {},
   "outputs": [
    {
     "data": {
      "text/plain": [
       "'2019-09-21 13:16:13.129776'"
      ]
     },
     "execution_count": 21,
     "metadata": {},
     "output_type": "execute_result"
    }
   ],
   "source": [
    "from datetime import datetime\n",
    "str(datetime.now())"
   ]
  },
  {
   "cell_type": "code",
   "execution_count": 22,
   "metadata": {},
   "outputs": [
    {
     "data": {
      "text/plain": [
       "0.0"
      ]
     },
     "execution_count": 22,
     "metadata": {},
     "output_type": "execute_result"
    }
   ],
   "source": [
    "import psutil\n",
    "\n",
    "cpu = psutil.cpu_percent() # gives a single float value\n",
    "\n",
    "psutil.cpu_percent() # gives a single float value"
   ]
  },
  {
   "cell_type": "code",
   "execution_count": 23,
   "metadata": {},
   "outputs": [
    {
     "name": "stdout",
     "output_type": "stream",
     "text": [
      "<class 'psutil._psosx.svmem'>\n"
     ]
    }
   ],
   "source": [
    "import psutil\n",
    "\n",
    "psutil.virtual_memory() # gives an object with many fields\n",
    "\n",
    "mem = psutil.virtual_memory() \n",
    "print(type(mem))"
   ]
  },
  {
   "cell_type": "code",
   "execution_count": 24,
   "metadata": {},
   "outputs": [
    {
     "name": "stdout",
     "output_type": "stream",
     "text": [
      "Help on class svmem in module psutil._psosx:\n",
      "\n",
      "class svmem(builtins.tuple)\n",
      " |  svmem(total, available, percent, used, free, active, inactive, wired)\n",
      " |  \n",
      " |  svmem(total, available, percent, used, free, active, inactive, wired)\n",
      " |  \n",
      " |  Method resolution order:\n",
      " |      svmem\n",
      " |      builtins.tuple\n",
      " |      builtins.object\n",
      " |  \n",
      " |  Methods defined here:\n",
      " |  \n",
      " |  __getnewargs__(self)\n",
      " |      Return self as a plain tuple.  Used by copy and pickle.\n",
      " |  \n",
      " |  __repr__(self)\n",
      " |      Return a nicely formatted representation string\n",
      " |  \n",
      " |  _asdict(self)\n",
      " |      Return a new OrderedDict which maps field names to their values.\n",
      " |  \n",
      " |  _replace(_self, **kwds)\n",
      " |      Return a new svmem object replacing specified fields with new values\n",
      " |  \n",
      " |  ----------------------------------------------------------------------\n",
      " |  Class methods defined here:\n",
      " |  \n",
      " |  _make(iterable) from builtins.type\n",
      " |      Make a new svmem object from a sequence or iterable\n",
      " |  \n",
      " |  ----------------------------------------------------------------------\n",
      " |  Static methods defined here:\n",
      " |  \n",
      " |  __new__(_cls, total, available, percent, used, free, active, inactive, wired)\n",
      " |      Create new instance of svmem(total, available, percent, used, free, active, inactive, wired)\n",
      " |  \n",
      " |  ----------------------------------------------------------------------\n",
      " |  Data descriptors defined here:\n",
      " |  \n",
      " |  total\n",
      " |      Alias for field number 0\n",
      " |  \n",
      " |  available\n",
      " |      Alias for field number 1\n",
      " |  \n",
      " |  percent\n",
      " |      Alias for field number 2\n",
      " |  \n",
      " |  used\n",
      " |      Alias for field number 3\n",
      " |  \n",
      " |  free\n",
      " |      Alias for field number 4\n",
      " |  \n",
      " |  active\n",
      " |      Alias for field number 5\n",
      " |  \n",
      " |  inactive\n",
      " |      Alias for field number 6\n",
      " |  \n",
      " |  wired\n",
      " |      Alias for field number 7\n",
      " |  \n",
      " |  ----------------------------------------------------------------------\n",
      " |  Data and other attributes defined here:\n",
      " |  \n",
      " |  _fields = ('total', 'available', 'percent', 'used', 'free', 'active', ...\n",
      " |  \n",
      " |  _fields_defaults = {}\n",
      " |  \n",
      " |  ----------------------------------------------------------------------\n",
      " |  Methods inherited from builtins.tuple:\n",
      " |  \n",
      " |  __add__(self, value, /)\n",
      " |      Return self+value.\n",
      " |  \n",
      " |  __contains__(self, key, /)\n",
      " |      Return key in self.\n",
      " |  \n",
      " |  __eq__(self, value, /)\n",
      " |      Return self==value.\n",
      " |  \n",
      " |  __ge__(self, value, /)\n",
      " |      Return self>=value.\n",
      " |  \n",
      " |  __getattribute__(self, name, /)\n",
      " |      Return getattr(self, name).\n",
      " |  \n",
      " |  __getitem__(self, key, /)\n",
      " |      Return self[key].\n",
      " |  \n",
      " |  __gt__(self, value, /)\n",
      " |      Return self>value.\n",
      " |  \n",
      " |  __hash__(self, /)\n",
      " |      Return hash(self).\n",
      " |  \n",
      " |  __iter__(self, /)\n",
      " |      Implement iter(self).\n",
      " |  \n",
      " |  __le__(self, value, /)\n",
      " |      Return self<=value.\n",
      " |  \n",
      " |  __len__(self, /)\n",
      " |      Return len(self).\n",
      " |  \n",
      " |  __lt__(self, value, /)\n",
      " |      Return self<value.\n",
      " |  \n",
      " |  __mul__(self, value, /)\n",
      " |      Return self*value.\n",
      " |  \n",
      " |  __ne__(self, value, /)\n",
      " |      Return self!=value.\n",
      " |  \n",
      " |  __rmul__(self, value, /)\n",
      " |      Return value*self.\n",
      " |  \n",
      " |  count(self, value, /)\n",
      " |      Return number of occurrences of value.\n",
      " |  \n",
      " |  index(self, value, start=0, stop=9223372036854775807, /)\n",
      " |      Return first index of value.\n",
      " |      \n",
      " |      Raises ValueError if the value is not present.\n",
      "\n"
     ]
    }
   ],
   "source": [
    "help(psutil._psosx.svmem)"
   ]
  },
  {
   "cell_type": "code",
   "execution_count": 25,
   "metadata": {},
   "outputs": [
    {
     "data": {
      "text/plain": [
       "80.5"
      ]
     },
     "execution_count": 25,
     "metadata": {},
     "output_type": "execute_result"
    }
   ],
   "source": [
    "import psutil\n",
    "\n",
    "mem = psutil.virtual_memory() \n",
    "mem.percent\n",
    "\n",
    "## Alternatively.\n",
    "psutil.virtual_memory().percent"
   ]
  },
  {
   "cell_type": "code",
   "execution_count": 26,
   "metadata": {},
   "outputs": [
    {
     "data": {
      "text/plain": [
       "(6.5, 80.5)"
      ]
     },
     "execution_count": 26,
     "metadata": {},
     "output_type": "execute_result"
    }
   ],
   "source": [
    "import psutil\n",
    "\n",
    "cpu = psutil.cpu_percent()\n",
    "mem = psutil.virtual_memory().percent\n",
    "\n",
    "cpu, mem"
   ]
  },
  {
   "cell_type": "markdown",
   "metadata": {},
   "source": [
    "# Sample 2 solution of Workshop02"
   ]
  },
  {
   "cell_type": "code",
   "execution_count": 27,
   "metadata": {},
   "outputs": [],
   "source": [
    "import psutil\n",
    "import time\n",
    "from datetime import datetime\n",
    "import csv\n",
    "\n",
    "def collection_metrics():\n",
    "    cpu = psutil.cpu_percent()\n",
    "    mem = psutil.virtual_memory().percent\n",
    "    timestamp = str(datetime.now())\n",
    "    return (cpu, mem, timestamp)\n",
    "    \n",
    "def save_metrics(row, mode):\n",
    "    with open(\"/Users/ivanlim/Desktop/2019_NUS_Python/Test_files/cpu_mem2.csv\" , mode=mode) as f:\n",
    "        csv_writer = csv.writer(f)\n",
    "        csv_writer.writerow(row)\n",
    "        # csv.writer(f).writerow(row)  # Alternative code & simplified to the 2 line above.\n",
    "            \n",
    "def dosomething():\n",
    "    row = collection_metrics()\n",
    "    save_metrics( row , mode = \"a\" )\n",
    "\n",
    "headerrow = ('CPU', 'MEM' , 'TimeStamp')\n",
    "save_metrics( headerrow , mode = \"w\" )\n",
    "\n",
    "a = 0\n",
    "while True:\n",
    "    dosomething()\n",
    "    time.sleep(5)\n",
    "    a += 1\n",
    "    \n",
    "    if a == 30:\n",
    "        break"
   ]
  },
  {
   "cell_type": "code",
   "execution_count": 28,
   "metadata": {},
   "outputs": [],
   "source": [
    "import pandas as pd\n",
    "import matplotlib.pyplot as plt"
   ]
  },
  {
   "cell_type": "code",
   "execution_count": 29,
   "metadata": {},
   "outputs": [],
   "source": [
    "df = pd.read_csv(\"/Users/ivanlim/Desktop/2019_NUS_Python/Test_files/cpu_mem2.csv\")"
   ]
  },
  {
   "cell_type": "code",
   "execution_count": 30,
   "metadata": {},
   "outputs": [
    {
     "data": {
      "text/html": [
       "<div>\n",
       "<style scoped>\n",
       "    .dataframe tbody tr th:only-of-type {\n",
       "        vertical-align: middle;\n",
       "    }\n",
       "\n",
       "    .dataframe tbody tr th {\n",
       "        vertical-align: top;\n",
       "    }\n",
       "\n",
       "    .dataframe thead th {\n",
       "        text-align: right;\n",
       "    }\n",
       "</style>\n",
       "<table border=\"1\" class=\"dataframe\">\n",
       "  <thead>\n",
       "    <tr style=\"text-align: right;\">\n",
       "      <th></th>\n",
       "      <th>CPU</th>\n",
       "      <th>MEM</th>\n",
       "      <th>TimeStamp</th>\n",
       "    </tr>\n",
       "  </thead>\n",
       "  <tbody>\n",
       "    <tr>\n",
       "      <th>0</th>\n",
       "      <td>7.8</td>\n",
       "      <td>80.2</td>\n",
       "      <td>2019-09-21 13:16:23.326495</td>\n",
       "    </tr>\n",
       "    <tr>\n",
       "      <th>1</th>\n",
       "      <td>9.8</td>\n",
       "      <td>79.9</td>\n",
       "      <td>2019-09-21 13:16:28.331654</td>\n",
       "    </tr>\n",
       "    <tr>\n",
       "      <th>2</th>\n",
       "      <td>12.2</td>\n",
       "      <td>80.7</td>\n",
       "      <td>2019-09-21 13:16:33.335040</td>\n",
       "    </tr>\n",
       "    <tr>\n",
       "      <th>3</th>\n",
       "      <td>11.7</td>\n",
       "      <td>81.0</td>\n",
       "      <td>2019-09-21 13:16:38.336469</td>\n",
       "    </tr>\n",
       "    <tr>\n",
       "      <th>4</th>\n",
       "      <td>10.3</td>\n",
       "      <td>80.3</td>\n",
       "      <td>2019-09-21 13:16:43.340157</td>\n",
       "    </tr>\n",
       "  </tbody>\n",
       "</table>\n",
       "</div>"
      ],
      "text/plain": [
       "    CPU   MEM                   TimeStamp\n",
       "0   7.8  80.2  2019-09-21 13:16:23.326495\n",
       "1   9.8  79.9  2019-09-21 13:16:28.331654\n",
       "2  12.2  80.7  2019-09-21 13:16:33.335040\n",
       "3  11.7  81.0  2019-09-21 13:16:38.336469\n",
       "4  10.3  80.3  2019-09-21 13:16:43.340157"
      ]
     },
     "execution_count": 30,
     "metadata": {},
     "output_type": "execute_result"
    }
   ],
   "source": [
    "df.head()"
   ]
  },
  {
   "cell_type": "code",
   "execution_count": 31,
   "metadata": {},
   "outputs": [
    {
     "data": {
      "text/plain": [
       "<matplotlib.axes._subplots.AxesSubplot at 0x1178177b8>"
      ]
     },
     "execution_count": 31,
     "metadata": {},
     "output_type": "execute_result"
    },
    {
     "data": {
      "image/png": "[encoded data removed]",
      "text/plain": [
       "<Figure size 432x288 with 1 Axes>"
      ]
     },
     "metadata": {
      "needs_background": "light"
     },
     "output_type": "display_data"
    }
   ],
   "source": [
    "df.CPU.plot()"
   ]
  },
  {
   "cell_type": "code",
   "execution_count": 32,
   "metadata": {},
   "outputs": [
    {
     "data": {
      "text/plain": [
       "<matplotlib.axes._subplots.AxesSubplot at 0x10548ad30>"
      ]
     },
     "execution_count": 32,
     "metadata": {},
     "output_type": "execute_result"
    },
    {
     "data": {
      "image/png": "[encoded data removed]",
      "text/plain": [
       "<Figure size 432x288 with 1 Axes>"
      ]
     },
     "metadata": {
      "needs_background": "light"
     },
     "output_type": "display_data"
    }
   ],
   "source": [
    "df.MEM.plot()"
   ]
  },
  {
   "cell_type": "code",
   "execution_count": null,
   "metadata": {},
   "outputs": [],
   "source": []
  }
 ],
 "metadata": {
  "kernelspec": {
   "display_name": "Python 3",
   "language": "python",
   "name": "python3"
  },
  "language_info": {
   "codemirror_mode": {
    "name": "ipython",
    "version": 3
   },
   "file_extension": ".py",
   "mimetype": "text/x-python",
   "name": "python",
   "nbconvert_exporter": "python",
   "pygments_lexer": "ipython3",
   "version": "3.7.3"
  }
 },
 "nbformat": 4,
 "nbformat_minor": 2
}
